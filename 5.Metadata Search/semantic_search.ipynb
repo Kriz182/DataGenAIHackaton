{
 "cells": [
  {
   "cell_type": "markdown",
   "metadata": {},
   "source": [
    "# 0. installing necessary packages"
   ]
  },
  {
   "cell_type": "code",
   "execution_count": 15,
   "metadata": {},
   "outputs": [
    {
     "name": "stdout",
     "output_type": "stream",
     "text": [
      "Requirement already satisfied: chromadb in /Users/jskuratowicz/Projects/DataGenAIHackaton/.venv/lib/python3.9/site-packages (0.4.21)\n",
      "Requirement already satisfied: google-cloud-bigquery in /Users/jskuratowicz/Projects/DataGenAIHackaton/.venv/lib/python3.9/site-packages (3.14.1)\n",
      "Requirement already satisfied: pandas in /Users/jskuratowicz/Projects/DataGenAIHackaton/.venv/lib/python3.9/site-packages (2.1.4)\n",
      "Collecting langchain\n",
      "  Downloading langchain-0.0.353-py3-none-any.whl.metadata (13 kB)\n",
      "Requirement already satisfied: google-cloud-aiplatform in /Users/jskuratowicz/Projects/DataGenAIHackaton/.venv/lib/python3.9/site-packages (1.38.1)\n",
      "Requirement already satisfied: gradio in /Users/jskuratowicz/Projects/DataGenAIHackaton/.venv/lib/python3.9/site-packages (4.12.0)\n",
      "Requirement already satisfied: requests>=2.28 in /Users/jskuratowicz/Projects/DataGenAIHackaton/.venv/lib/python3.9/site-packages (from chromadb) (2.31.0)\n",
      "Requirement already satisfied: pydantic>=1.9 in /Users/jskuratowicz/Projects/DataGenAIHackaton/.venv/lib/python3.9/site-packages (from chromadb) (2.5.3)\n",
      "Requirement already satisfied: chroma-hnswlib==0.7.3 in /Users/jskuratowicz/Projects/DataGenAIHackaton/.venv/lib/python3.9/site-packages (from chromadb) (0.7.3)\n",
      "Requirement already satisfied: fastapi>=0.95.2 in /Users/jskuratowicz/Projects/DataGenAIHackaton/.venv/lib/python3.9/site-packages (from chromadb) (0.108.0)\n",
      "Requirement already satisfied: uvicorn>=0.18.3 in /Users/jskuratowicz/Projects/DataGenAIHackaton/.venv/lib/python3.9/site-packages (from uvicorn[standard]>=0.18.3->chromadb) (0.25.0)\n",
      "Requirement already satisfied: numpy>=1.22.5 in /Users/jskuratowicz/Projects/DataGenAIHackaton/.venv/lib/python3.9/site-packages (from chromadb) (1.26.3)\n",
      "Requirement already satisfied: posthog>=2.4.0 in /Users/jskuratowicz/Projects/DataGenAIHackaton/.venv/lib/python3.9/site-packages (from chromadb) (3.1.0)\n",
      "Requirement already satisfied: typing-extensions>=4.5.0 in /Users/jskuratowicz/Projects/DataGenAIHackaton/.venv/lib/python3.9/site-packages (from chromadb) (4.9.0)\n",
      "Requirement already satisfied: pulsar-client>=3.1.0 in /Users/jskuratowicz/Projects/DataGenAIHackaton/.venv/lib/python3.9/site-packages (from chromadb) (3.4.0)\n",
      "Requirement already satisfied: onnxruntime>=1.14.1 in /Users/jskuratowicz/Projects/DataGenAIHackaton/.venv/lib/python3.9/site-packages (from chromadb) (1.16.3)\n",
      "Requirement already satisfied: opentelemetry-api>=1.2.0 in /Users/jskuratowicz/Projects/DataGenAIHackaton/.venv/lib/python3.9/site-packages (from chromadb) (1.22.0)\n",
      "Requirement already satisfied: opentelemetry-exporter-otlp-proto-grpc>=1.2.0 in /Users/jskuratowicz/Projects/DataGenAIHackaton/.venv/lib/python3.9/site-packages (from chromadb) (1.22.0)\n",
      "Requirement already satisfied: opentelemetry-instrumentation-fastapi>=0.41b0 in /Users/jskuratowicz/Projects/DataGenAIHackaton/.venv/lib/python3.9/site-packages (from chromadb) (0.43b0)\n",
      "Requirement already satisfied: opentelemetry-sdk>=1.2.0 in /Users/jskuratowicz/Projects/DataGenAIHackaton/.venv/lib/python3.9/site-packages (from chromadb) (1.22.0)\n",
      "Requirement already satisfied: tokenizers>=0.13.2 in /Users/jskuratowicz/Projects/DataGenAIHackaton/.venv/lib/python3.9/site-packages (from chromadb) (0.15.0)\n",
      "Requirement already satisfied: pypika>=0.48.9 in /Users/jskuratowicz/Projects/DataGenAIHackaton/.venv/lib/python3.9/site-packages (from chromadb) (0.48.9)\n",
      "Requirement already satisfied: tqdm>=4.65.0 in /Users/jskuratowicz/Projects/DataGenAIHackaton/.venv/lib/python3.9/site-packages (from chromadb) (4.66.1)\n",
      "Requirement already satisfied: overrides>=7.3.1 in /Users/jskuratowicz/Projects/DataGenAIHackaton/.venv/lib/python3.9/site-packages (from chromadb) (7.4.0)\n",
      "Requirement already satisfied: importlib-resources in /Users/jskuratowicz/Projects/DataGenAIHackaton/.venv/lib/python3.9/site-packages (from chromadb) (6.1.1)\n",
      "Requirement already satisfied: grpcio>=1.58.0 in /Users/jskuratowicz/Projects/DataGenAIHackaton/.venv/lib/python3.9/site-packages (from chromadb) (1.60.0)\n",
      "Requirement already satisfied: bcrypt>=4.0.1 in /Users/jskuratowicz/Projects/DataGenAIHackaton/.venv/lib/python3.9/site-packages (from chromadb) (4.1.2)\n",
      "Requirement already satisfied: typer>=0.9.0 in /Users/jskuratowicz/Projects/DataGenAIHackaton/.venv/lib/python3.9/site-packages (from chromadb) (0.9.0)\n",
      "Requirement already satisfied: kubernetes>=28.1.0 in /Users/jskuratowicz/Projects/DataGenAIHackaton/.venv/lib/python3.9/site-packages (from chromadb) (28.1.0)\n",
      "Requirement already satisfied: tenacity>=8.2.3 in /Users/jskuratowicz/Projects/DataGenAIHackaton/.venv/lib/python3.9/site-packages (from chromadb) (8.2.3)\n",
      "Requirement already satisfied: PyYAML>=6.0.0 in /Users/jskuratowicz/Projects/DataGenAIHackaton/.venv/lib/python3.9/site-packages (from chromadb) (6.0.1)\n",
      "Requirement already satisfied: mmh3>=4.0.1 in /Users/jskuratowicz/Projects/DataGenAIHackaton/.venv/lib/python3.9/site-packages (from chromadb) (4.0.1)\n",
      "Requirement already satisfied: google-api-core!=2.0.*,!=2.1.*,!=2.2.*,!=2.3.0,<3.0.0dev,>=1.31.5 in /Users/jskuratowicz/Projects/DataGenAIHackaton/.venv/lib/python3.9/site-packages (from google-cloud-bigquery) (2.15.0)\n",
      "Requirement already satisfied: google-cloud-core<3.0.0dev,>=1.6.0 in /Users/jskuratowicz/Projects/DataGenAIHackaton/.venv/lib/python3.9/site-packages (from google-cloud-bigquery) (2.4.1)\n",
      "Requirement already satisfied: google-resumable-media<3.0dev,>=0.6.0 in /Users/jskuratowicz/Projects/DataGenAIHackaton/.venv/lib/python3.9/site-packages (from google-cloud-bigquery) (2.7.0)\n",
      "Requirement already satisfied: packaging>=20.0.0 in /Users/jskuratowicz/Projects/DataGenAIHackaton/.venv/lib/python3.9/site-packages (from google-cloud-bigquery) (23.2)\n",
      "Requirement already satisfied: python-dateutil<3.0dev,>=2.7.2 in /Users/jskuratowicz/Projects/DataGenAIHackaton/.venv/lib/python3.9/site-packages (from google-cloud-bigquery) (2.8.2)\n",
      "Requirement already satisfied: pytz>=2020.1 in /Users/jskuratowicz/Projects/DataGenAIHackaton/.venv/lib/python3.9/site-packages (from pandas) (2023.3.post1)\n",
      "Requirement already satisfied: tzdata>=2022.1 in /Users/jskuratowicz/Projects/DataGenAIHackaton/.venv/lib/python3.9/site-packages (from pandas) (2023.4)\n",
      "Collecting SQLAlchemy<3,>=1.4 (from langchain)\n",
      "  Downloading SQLAlchemy-2.0.25-cp39-cp39-macosx_10_9_x86_64.whl.metadata (9.6 kB)\n",
      "Collecting aiohttp<4.0.0,>=3.8.3 (from langchain)\n",
      "  Using cached aiohttp-3.9.1-cp39-cp39-macosx_10_9_x86_64.whl.metadata (7.4 kB)\n",
      "Collecting async-timeout<5.0.0,>=4.0.0 (from langchain)\n",
      "  Using cached async_timeout-4.0.3-py3-none-any.whl.metadata (4.2 kB)\n",
      "Collecting dataclasses-json<0.7,>=0.5.7 (from langchain)\n",
      "  Using cached dataclasses_json-0.6.3-py3-none-any.whl.metadata (25 kB)\n",
      "Collecting jsonpatch<2.0,>=1.33 (from langchain)\n",
      "  Using cached jsonpatch-1.33-py2.py3-none-any.whl.metadata (3.0 kB)\n",
      "Collecting langchain-community<0.1,>=0.0.2 (from langchain)\n",
      "  Downloading langchain_community-0.0.7-py3-none-any.whl.metadata (7.3 kB)\n",
      "Collecting langchain-core<0.2,>=0.1.4 (from langchain)\n",
      "  Downloading langchain_core-0.1.4-py3-none-any.whl.metadata (4.0 kB)\n",
      "Collecting langsmith<0.1.0,>=0.0.70 (from langchain)\n",
      "  Downloading langsmith-0.0.77-py3-none-any.whl.metadata (10 kB)\n",
      "Requirement already satisfied: proto-plus<2.0.0dev,>=1.22.0 in /Users/jskuratowicz/Projects/DataGenAIHackaton/.venv/lib/python3.9/site-packages (from google-cloud-aiplatform) (1.23.0)\n",
      "Requirement already satisfied: protobuf!=3.20.0,!=3.20.1,!=4.21.0,!=4.21.1,!=4.21.2,!=4.21.3,!=4.21.4,!=4.21.5,<5.0.0dev,>=3.19.5 in /Users/jskuratowicz/Projects/DataGenAIHackaton/.venv/lib/python3.9/site-packages (from google-cloud-aiplatform) (4.25.1)\n",
      "Requirement already satisfied: google-cloud-storage<3.0.0dev,>=1.32.0 in /Users/jskuratowicz/Projects/DataGenAIHackaton/.venv/lib/python3.9/site-packages (from google-cloud-aiplatform) (2.14.0)\n",
      "Requirement already satisfied: google-cloud-resource-manager<3.0.0dev,>=1.3.3 in /Users/jskuratowicz/Projects/DataGenAIHackaton/.venv/lib/python3.9/site-packages (from google-cloud-aiplatform) (1.11.0)\n",
      "Requirement already satisfied: shapely<3.0.0dev in /Users/jskuratowicz/Projects/DataGenAIHackaton/.venv/lib/python3.9/site-packages (from google-cloud-aiplatform) (2.0.2)\n",
      "Requirement already satisfied: aiofiles<24.0,>=22.0 in /Users/jskuratowicz/Projects/DataGenAIHackaton/.venv/lib/python3.9/site-packages (from gradio) (23.2.1)\n",
      "Requirement already satisfied: altair<6.0,>=4.2.0 in /Users/jskuratowicz/Projects/DataGenAIHackaton/.venv/lib/python3.9/site-packages (from gradio) (5.2.0)\n",
      "Requirement already satisfied: ffmpy in /Users/jskuratowicz/Projects/DataGenAIHackaton/.venv/lib/python3.9/site-packages (from gradio) (0.3.1)\n",
      "Requirement already satisfied: gradio-client==0.8.0 in /Users/jskuratowicz/Projects/DataGenAIHackaton/.venv/lib/python3.9/site-packages (from gradio) (0.8.0)\n",
      "Requirement already satisfied: httpx in /Users/jskuratowicz/Projects/DataGenAIHackaton/.venv/lib/python3.9/site-packages (from gradio) (0.26.0)\n",
      "Requirement already satisfied: huggingface-hub>=0.19.3 in /Users/jskuratowicz/Projects/DataGenAIHackaton/.venv/lib/python3.9/site-packages (from gradio) (0.20.1)\n",
      "Requirement already satisfied: jinja2<4.0 in /Users/jskuratowicz/Projects/DataGenAIHackaton/.venv/lib/python3.9/site-packages (from gradio) (3.1.2)\n",
      "Requirement already satisfied: markupsafe~=2.0 in /Users/jskuratowicz/Projects/DataGenAIHackaton/.venv/lib/python3.9/site-packages (from gradio) (2.1.3)\n",
      "Requirement already satisfied: matplotlib~=3.0 in /Users/jskuratowicz/Projects/DataGenAIHackaton/.venv/lib/python3.9/site-packages (from gradio) (3.8.2)\n",
      "Requirement already satisfied: orjson~=3.0 in /Users/jskuratowicz/Projects/DataGenAIHackaton/.venv/lib/python3.9/site-packages (from gradio) (3.9.10)\n",
      "Requirement already satisfied: pillow<11.0,>=8.0 in /Users/jskuratowicz/Projects/DataGenAIHackaton/.venv/lib/python3.9/site-packages (from gradio) (10.2.0)\n",
      "Requirement already satisfied: pydub in /Users/jskuratowicz/Projects/DataGenAIHackaton/.venv/lib/python3.9/site-packages (from gradio) (0.25.1)\n",
      "Requirement already satisfied: python-multipart in /Users/jskuratowicz/Projects/DataGenAIHackaton/.venv/lib/python3.9/site-packages (from gradio) (0.0.6)\n",
      "Requirement already satisfied: semantic-version~=2.0 in /Users/jskuratowicz/Projects/DataGenAIHackaton/.venv/lib/python3.9/site-packages (from gradio) (2.10.0)\n",
      "Requirement already satisfied: tomlkit==0.12.0 in /Users/jskuratowicz/Projects/DataGenAIHackaton/.venv/lib/python3.9/site-packages (from gradio) (0.12.0)\n",
      "Requirement already satisfied: fsspec in /Users/jskuratowicz/Projects/DataGenAIHackaton/.venv/lib/python3.9/site-packages (from gradio-client==0.8.0->gradio) (2023.12.2)\n",
      "Requirement already satisfied: websockets<12.0,>=10.0 in /Users/jskuratowicz/Projects/DataGenAIHackaton/.venv/lib/python3.9/site-packages (from gradio-client==0.8.0->gradio) (11.0.3)\n",
      "Requirement already satisfied: attrs>=17.3.0 in /Users/jskuratowicz/Projects/DataGenAIHackaton/.venv/lib/python3.9/site-packages (from aiohttp<4.0.0,>=3.8.3->langchain) (23.2.0)\n",
      "Collecting multidict<7.0,>=4.5 (from aiohttp<4.0.0,>=3.8.3->langchain)\n",
      "  Using cached multidict-6.0.4-cp39-cp39-macosx_10_9_x86_64.whl (29 kB)\n",
      "Collecting yarl<2.0,>=1.0 (from aiohttp<4.0.0,>=3.8.3->langchain)\n",
      "  Using cached yarl-1.9.4-cp39-cp39-macosx_10_9_x86_64.whl.metadata (31 kB)\n",
      "Collecting frozenlist>=1.1.1 (from aiohttp<4.0.0,>=3.8.3->langchain)\n",
      "  Using cached frozenlist-1.4.1-cp39-cp39-macosx_10_9_x86_64.whl.metadata (12 kB)\n",
      "Collecting aiosignal>=1.1.2 (from aiohttp<4.0.0,>=3.8.3->langchain)\n",
      "  Using cached aiosignal-1.3.1-py3-none-any.whl (7.6 kB)\n",
      "Requirement already satisfied: jsonschema>=3.0 in /Users/jskuratowicz/Projects/DataGenAIHackaton/.venv/lib/python3.9/site-packages (from altair<6.0,>=4.2.0->gradio) (4.20.0)\n",
      "Requirement already satisfied: toolz in /Users/jskuratowicz/Projects/DataGenAIHackaton/.venv/lib/python3.9/site-packages (from altair<6.0,>=4.2.0->gradio) (0.12.0)\n",
      "Collecting marshmallow<4.0.0,>=3.18.0 (from dataclasses-json<0.7,>=0.5.7->langchain)\n",
      "  Using cached marshmallow-3.20.1-py3-none-any.whl.metadata (7.8 kB)\n",
      "Collecting typing-inspect<1,>=0.4.0 (from dataclasses-json<0.7,>=0.5.7->langchain)\n",
      "  Using cached typing_inspect-0.9.0-py3-none-any.whl.metadata (1.5 kB)\n",
      "Requirement already satisfied: starlette<0.33.0,>=0.29.0 in /Users/jskuratowicz/Projects/DataGenAIHackaton/.venv/lib/python3.9/site-packages (from fastapi>=0.95.2->chromadb) (0.32.0.post1)\n",
      "Requirement already satisfied: googleapis-common-protos<2.0.dev0,>=1.56.2 in /Users/jskuratowicz/Projects/DataGenAIHackaton/.venv/lib/python3.9/site-packages (from google-api-core!=2.0.*,!=2.1.*,!=2.2.*,!=2.3.0,<3.0.0dev,>=1.31.5->google-cloud-bigquery) (1.62.0)\n",
      "Requirement already satisfied: google-auth<3.0.dev0,>=2.14.1 in /Users/jskuratowicz/Projects/DataGenAIHackaton/.venv/lib/python3.9/site-packages (from google-api-core!=2.0.*,!=2.1.*,!=2.2.*,!=2.3.0,<3.0.0dev,>=1.31.5->google-cloud-bigquery) (2.26.0)\n",
      "Requirement already satisfied: grpcio-status<2.0.dev0,>=1.33.2 in /Users/jskuratowicz/Projects/DataGenAIHackaton/.venv/lib/python3.9/site-packages (from google-api-core[grpc]!=2.0.*,!=2.1.*,!=2.2.*,!=2.3.*,!=2.4.*,!=2.5.*,!=2.6.*,!=2.7.*,<3.0.0dev,>=1.32.0->google-cloud-aiplatform) (1.60.0)\n",
      "Requirement already satisfied: grpc-google-iam-v1<1.0.0dev,>=0.12.4 in /Users/jskuratowicz/Projects/DataGenAIHackaton/.venv/lib/python3.9/site-packages (from google-cloud-resource-manager<3.0.0dev,>=1.3.3->google-cloud-aiplatform) (0.13.0)\n",
      "Requirement already satisfied: google-crc32c<2.0dev,>=1.0 in /Users/jskuratowicz/Projects/DataGenAIHackaton/.venv/lib/python3.9/site-packages (from google-cloud-storage<3.0.0dev,>=1.32.0->google-cloud-aiplatform) (1.5.0)\n",
      "Requirement already satisfied: filelock in /Users/jskuratowicz/Projects/DataGenAIHackaton/.venv/lib/python3.9/site-packages (from huggingface-hub>=0.19.3->gradio) (3.13.1)\n",
      "Requirement already satisfied: zipp>=3.1.0 in /Users/jskuratowicz/Projects/DataGenAIHackaton/.venv/lib/python3.9/site-packages (from importlib-resources->chromadb) (3.17.0)\n",
      "Collecting jsonpointer>=1.9 (from jsonpatch<2.0,>=1.33->langchain)\n",
      "  Using cached jsonpointer-2.4-py2.py3-none-any.whl.metadata (2.5 kB)\n",
      "Requirement already satisfied: certifi>=14.05.14 in /Users/jskuratowicz/Projects/DataGenAIHackaton/.venv/lib/python3.9/site-packages (from kubernetes>=28.1.0->chromadb) (2023.11.17)\n",
      "Requirement already satisfied: six>=1.9.0 in /Users/jskuratowicz/Projects/DataGenAIHackaton/.venv/lib/python3.9/site-packages (from kubernetes>=28.1.0->chromadb) (1.16.0)\n",
      "Requirement already satisfied: websocket-client!=0.40.0,!=0.41.*,!=0.42.*,>=0.32.0 in /Users/jskuratowicz/Projects/DataGenAIHackaton/.venv/lib/python3.9/site-packages (from kubernetes>=28.1.0->chromadb) (1.7.0)\n",
      "Requirement already satisfied: requests-oauthlib in /Users/jskuratowicz/Projects/DataGenAIHackaton/.venv/lib/python3.9/site-packages (from kubernetes>=28.1.0->chromadb) (1.3.1)\n",
      "Requirement already satisfied: oauthlib>=3.2.2 in /Users/jskuratowicz/Projects/DataGenAIHackaton/.venv/lib/python3.9/site-packages (from kubernetes>=28.1.0->chromadb) (3.2.2)\n",
      "Requirement already satisfied: urllib3<2.0,>=1.24.2 in /Users/jskuratowicz/Projects/DataGenAIHackaton/.venv/lib/python3.9/site-packages (from kubernetes>=28.1.0->chromadb) (1.26.18)\n",
      "Requirement already satisfied: anyio<5,>=3 in /Users/jskuratowicz/Projects/DataGenAIHackaton/.venv/lib/python3.9/site-packages (from langchain-core<0.2,>=0.1.4->langchain) (4.2.0)\n",
      "Requirement already satisfied: contourpy>=1.0.1 in /Users/jskuratowicz/Projects/DataGenAIHackaton/.venv/lib/python3.9/site-packages (from matplotlib~=3.0->gradio) (1.2.0)\n",
      "Requirement already satisfied: cycler>=0.10 in /Users/jskuratowicz/Projects/DataGenAIHackaton/.venv/lib/python3.9/site-packages (from matplotlib~=3.0->gradio) (0.12.1)\n",
      "Requirement already satisfied: fonttools>=4.22.0 in /Users/jskuratowicz/Projects/DataGenAIHackaton/.venv/lib/python3.9/site-packages (from matplotlib~=3.0->gradio) (4.47.0)\n",
      "Requirement already satisfied: kiwisolver>=1.3.1 in /Users/jskuratowicz/Projects/DataGenAIHackaton/.venv/lib/python3.9/site-packages (from matplotlib~=3.0->gradio) (1.4.5)\n",
      "Requirement already satisfied: pyparsing>=2.3.1 in /Users/jskuratowicz/Projects/DataGenAIHackaton/.venv/lib/python3.9/site-packages (from matplotlib~=3.0->gradio) (3.1.1)\n",
      "Requirement already satisfied: coloredlogs in /Users/jskuratowicz/Projects/DataGenAIHackaton/.venv/lib/python3.9/site-packages (from onnxruntime>=1.14.1->chromadb) (15.0.1)\n",
      "Requirement already satisfied: flatbuffers in /Users/jskuratowicz/Projects/DataGenAIHackaton/.venv/lib/python3.9/site-packages (from onnxruntime>=1.14.1->chromadb) (23.5.26)\n",
      "Requirement already satisfied: sympy in /Users/jskuratowicz/Projects/DataGenAIHackaton/.venv/lib/python3.9/site-packages (from onnxruntime>=1.14.1->chromadb) (1.12)\n",
      "Requirement already satisfied: deprecated>=1.2.6 in /Users/jskuratowicz/Projects/DataGenAIHackaton/.venv/lib/python3.9/site-packages (from opentelemetry-api>=1.2.0->chromadb) (1.2.14)\n",
      "Requirement already satisfied: importlib-metadata<7.0,>=6.0 in /Users/jskuratowicz/Projects/DataGenAIHackaton/.venv/lib/python3.9/site-packages (from opentelemetry-api>=1.2.0->chromadb) (6.11.0)\n",
      "Requirement already satisfied: backoff<3.0.0,>=1.10.0 in /Users/jskuratowicz/Projects/DataGenAIHackaton/.venv/lib/python3.9/site-packages (from opentelemetry-exporter-otlp-proto-grpc>=1.2.0->chromadb) (2.2.1)\n",
      "Requirement already satisfied: opentelemetry-exporter-otlp-proto-common==1.22.0 in /Users/jskuratowicz/Projects/DataGenAIHackaton/.venv/lib/python3.9/site-packages (from opentelemetry-exporter-otlp-proto-grpc>=1.2.0->chromadb) (1.22.0)\n",
      "Requirement already satisfied: opentelemetry-proto==1.22.0 in /Users/jskuratowicz/Projects/DataGenAIHackaton/.venv/lib/python3.9/site-packages (from opentelemetry-exporter-otlp-proto-grpc>=1.2.0->chromadb) (1.22.0)\n",
      "Requirement already satisfied: opentelemetry-instrumentation-asgi==0.43b0 in /Users/jskuratowicz/Projects/DataGenAIHackaton/.venv/lib/python3.9/site-packages (from opentelemetry-instrumentation-fastapi>=0.41b0->chromadb) (0.43b0)\n",
      "Requirement already satisfied: opentelemetry-instrumentation==0.43b0 in /Users/jskuratowicz/Projects/DataGenAIHackaton/.venv/lib/python3.9/site-packages (from opentelemetry-instrumentation-fastapi>=0.41b0->chromadb) (0.43b0)\n",
      "Requirement already satisfied: opentelemetry-semantic-conventions==0.43b0 in /Users/jskuratowicz/Projects/DataGenAIHackaton/.venv/lib/python3.9/site-packages (from opentelemetry-instrumentation-fastapi>=0.41b0->chromadb) (0.43b0)\n",
      "Requirement already satisfied: opentelemetry-util-http==0.43b0 in /Users/jskuratowicz/Projects/DataGenAIHackaton/.venv/lib/python3.9/site-packages (from opentelemetry-instrumentation-fastapi>=0.41b0->chromadb) (0.43b0)\n",
      "Requirement already satisfied: setuptools>=16.0 in /Users/jskuratowicz/Projects/DataGenAIHackaton/.venv/lib/python3.9/site-packages (from opentelemetry-instrumentation==0.43b0->opentelemetry-instrumentation-fastapi>=0.41b0->chromadb) (58.0.4)\n",
      "Requirement already satisfied: wrapt<2.0.0,>=1.0.0 in /Users/jskuratowicz/Projects/DataGenAIHackaton/.venv/lib/python3.9/site-packages (from opentelemetry-instrumentation==0.43b0->opentelemetry-instrumentation-fastapi>=0.41b0->chromadb) (1.16.0)\n",
      "Requirement already satisfied: asgiref~=3.0 in /Users/jskuratowicz/Projects/DataGenAIHackaton/.venv/lib/python3.9/site-packages (from opentelemetry-instrumentation-asgi==0.43b0->opentelemetry-instrumentation-fastapi>=0.41b0->chromadb) (3.7.2)\n",
      "Requirement already satisfied: monotonic>=1.5 in /Users/jskuratowicz/Projects/DataGenAIHackaton/.venv/lib/python3.9/site-packages (from posthog>=2.4.0->chromadb) (1.6)\n",
      "Requirement already satisfied: annotated-types>=0.4.0 in /Users/jskuratowicz/Projects/DataGenAIHackaton/.venv/lib/python3.9/site-packages (from pydantic>=1.9->chromadb) (0.6.0)\n",
      "Requirement already satisfied: pydantic-core==2.14.6 in /Users/jskuratowicz/Projects/DataGenAIHackaton/.venv/lib/python3.9/site-packages (from pydantic>=1.9->chromadb) (2.14.6)\n",
      "Requirement already satisfied: charset-normalizer<4,>=2 in /Users/jskuratowicz/Projects/DataGenAIHackaton/.venv/lib/python3.9/site-packages (from requests>=2.28->chromadb) (3.3.2)\n",
      "Requirement already satisfied: idna<4,>=2.5 in /Users/jskuratowicz/Projects/DataGenAIHackaton/.venv/lib/python3.9/site-packages (from requests>=2.28->chromadb) (3.6)\n"
     ]
    }
   ],
   "source": [
    "#!pip install chromadb google-cloud-bigquery pandas langchain google-cloud-aiplatform gradio"
   ]
  },
  {
   "cell_type": "code",
   "execution_count": 6,
   "metadata": {},
   "outputs": [],
   "source": [
    "from google.cloud import bigquery\n",
    "import pandas as pd\n",
    "import requests\n",
    "from google.oauth2 import service_account\n",
    "import vertexai\n",
    "from vertexai.language_models import TextGenerationModel\n"
   ]
  },
  {
   "cell_type": "markdown",
   "metadata": {},
   "source": [
    "### we will be looking for data in public bigquery datasets\n",
    "\n",
    "We're creating explicit list of tables to search for"
   ]
  },
  {
   "cell_type": "code",
   "execution_count": 7,
   "metadata": {},
   "outputs": [],
   "source": [
    "\n",
    "bqclient = bigquery.Client(project='bigquery-public-data')"
   ]
  },
  {
   "cell_type": "markdown",
   "metadata": {},
   "source": [
    "# Heading 1\n",
    "## Heading 2\n",
    "### Heading 3\n",
    "\n",
    "**Bold text**\n",
    "*Italic text*\n",
    "~~Strikethrough text~~\n",
    "\n",
    "- Bullet point 1\n",
    "- Bullet point 2\n",
    "- Bullet point 3\n",
    "\n",
    "1. Numbered item 1\n",
    "2. Numbered item 2\n",
    "3. Numbered item 3\n",
    "\n",
    "[Link](https://www.example.com)\n",
    "![Image](image.jpg)\n",
    "\n",
    "> Blockquote\n",
    "\n",
    "`Inline code`\n"
   ]
  },
  {
   "cell_type": "code",
   "execution_count": 8,
   "metadata": {},
   "outputs": [],
   "source": [
    "#project_ref = bqclient.project('bigquery-public-data')\n",
    "\n",
    "table_list=[\n",
    "    {'dataset': 'iowa_liquor_sales', 'table': 'sales'},\n",
    "    {'dataset': 'london_bicycles', 'table': 'cycle_hire'},\n",
    "    {'dataset': 'london_bicycles', 'table': 'cycle_stations'},\n",
    "    {'dataset': 'ml_datasets', 'table': 'census_adult_income'},\n",
    "    {'dataset': 'ml_datasets', 'table': 'credit_card_default'},\n",
    "    {'dataset': 'ml_datasets', 'table': 'holidays_and_events_for_forecasting'},\n",
    "    {'dataset': 'ml_datasets', 'table': 'iris'},\n",
    "    {'dataset': 'ml_datasets', 'table': 'penguins'},\n",
    "    {'dataset': 'ml_datasets', 'table': 'ulb_fraud_detection'},\n",
    "    {'dataset': 'new_york_citibike', 'table': 'citibike_stations'},\n",
    "    {'dataset': 'new_york_citibike', 'table': 'citibike_trips'},\n",
    "    {'dataset': 'fdic_banks', 'table': 'institutions'},\n",
    "    {'dataset': 'fdic_banks', 'table': 'locations'},\n",
    "    {'dataset': 'fda_food', 'table': 'food_enforcement'},\n",
    "    {'dataset': 'fda_food', 'table': 'food_events'},\n",
    "    {'dataset': 'fcc_political_ads', 'table': 'broadcast_tv_radio_station'},\n",
    "    {'dataset': 'fcc_political_ads', 'table': 'content_info'},\n",
    "    {'dataset': 'fcc_political_ads', 'table': 'file_history'},\n",
    "    {'dataset': 'fcc_political_ads', 'table': 'file_record'},\n",
    "]\n",
    "\n"
   ]
  },
  {
   "cell_type": "markdown",
   "metadata": {},
   "source": [
    "### We're using a variable to generate missing table descriptions using Text Bison\n",
    "if True then generate missing table descriptions"
   ]
  },
  {
   "cell_type": "code",
   "execution_count": 9,
   "metadata": {},
   "outputs": [],
   "source": [
    "\n",
    "\n",
    "GENERATE_TABLE_DESCRIPTIONS = True\n"
   ]
  },
  {
   "cell_type": "markdown",
   "metadata": {},
   "source": [
    "### Function that sticks together dataset,table,field descriptions\n",
    "if GENERATE_TABLE_DESCRIPTIONS is true then missing table descriptions are generated in bison based on other descriptions"
   ]
  },
  {
   "cell_type": "code",
   "execution_count": 10,
   "metadata": {},
   "outputs": [],
   "source": [
    "def assemble_description(dataset_ref, table_ref,GENERATE_TABLE_DESCRIPTIONS):\n",
    "    table=bqclient.get_table(table_ref)\n",
    "    dataset=bqclient.get_dataset(dataset_ref)\n",
    "    description=f\"Dataset name: '{dataset_ref.dataset_id}', Dataset description:'{dataset.description}', Table name:\\\"{str(table_ref.table_id).replace('_',' ')}\\\", Table description:'{table.description}'\"\n",
    "    description=description + \"Schema attributes: \" + \",\".join([f\"column-name: {field.name}, column-type:\\\"{field.field_type}\\\" ,column-description: \\\"{field.description}\\\"\" for field in table.schema])\n",
    "    \n",
    "    if table.description is None:\n",
    "        returned_table_description=\"No description available\"\n",
    "    else:\n",
    "        returned_table_description=table.description\n",
    "        \n",
    "    if GENERATE_TABLE_DESCRIPTIONS and table.description is None:\n",
    "        parameters = {\n",
    "            \"temperature\": 0.9,  # Temperature controls the degree of randomness in token selection.\n",
    "            \"max_output_tokens\": 1000,  # Token limit determines the maximum amount of text output.\n",
    "            \"top_p\": 0.8,  # Tokens are selected from most probable to least until the sum of their probabilities equals the top_p value.\n",
    "            \"top_k\": 40,  # A top_k of 1 means the selected token is the most probable among all tokens.\n",
    "        }\n",
    "        model = TextGenerationModel.from_pretrained(\"text-bison@002\")\n",
    "        response = model.predict(\n",
    "            \"Please give brief description of a table that describes contents and purpose of the table for table users. Please do not describe or list attributes of a table only table general description. This is table schema:\" + description,\n",
    "            **parameters,\n",
    "        )\n",
    "        print(f\"Response from Model: {response.text}\")\n",
    "        description=f\"Dataset name: '{dataset_ref.dataset_id}', Dataset description:'{dataset.description}', Table name:\\\"{str(table_ref.table_id).replace('_',' ')}\\\", Table description:'{response.text}'\"\n",
    "        description=description + \"Schema attributes: \" + \",\".join([f\"column-name: {field.name}, column-type:\\\"{field.field_type}\\\" ,column-description: \\\"{field.description}\\\"\" for field in table.schema])\n",
    "        returned_table_description=response.text\n",
    "\n",
    "    return returned_table_description,description"
   ]
  },
  {
   "cell_type": "markdown",
   "metadata": {},
   "source": [
    "### Assemble table description\n",
    "Calling the above function for each table\n"
   ]
  },
  {
   "cell_type": "code",
   "execution_count": 13,
   "metadata": {},
   "outputs": [
    {
     "name": "stdout",
     "output_type": "stream",
     "text": [
      "Response from Model:  The table \"cycle hire\" in the dataset \"london_bicycles\" provides information about bicycle trips in London. Each row in the table represents a single bike trip. The table includes the following columns:\n",
      "\n",
      "- rental_id: Unique identifier for each bike trip.\n",
      "- duration: Duration of the bike trip in seconds.\n",
      "- duration_ms: Duration of the bike trip in milliseconds.\n",
      "- bike_id: Unique identifier for each bike.\n",
      "- bike_model: Model of the bike used for the trip.\n",
      "- end_date: Date and time when the bike trip ended.\n",
      "- end_station_id: Unique identifier for the station where the bike trip ended.\n",
      "- end_station_name: Name of the station where the bike trip ended.\n",
      "- start_date: Date and time when the bike trip started.\n",
      "- start_station_id: Unique identifier for the station where the bike trip started.\n",
      "- start_station_name: Name of the station where the bike trip started.\n",
      "- end_station_logical_terminal: Logical terminal for the station where the bike trip ended.\n",
      "- start_station_logical_terminal: Logical terminal for the station where the bike trip started.\n",
      "- end_station_priority_id: Priority ID for the station where the bike trip ended.\n",
      "Response from Model:  The table named \"cycle stations\" in the 'london_bicycles' dataset contains information about bicycle stations in London. It has 15 columns: id, installed, latitude, locked, longitude, name, bikes_count, docks_count, nbEmptyDocks, temporary, terminal_name, install_date, removal_date. Each row in the table represents a bicycle station, and the columns provide various details about the station such as its location, status, and capacity.\n",
      "Response from Model:  The table describes the contents and purpose of the 'census adult income' table in the 'ml_datasets' dataset. It provides information about the attributes of the table, including column names, data types, and descriptions. The table contains information about individuals, including their age, work class, education level, marital status, occupation, relationship to the household, race, gender, capital gains, capital losses, hours worked per week, country of birth, and income bracket. This dataset can be used for various machine learning tasks, such as income prediction and demographic analysis.\n",
      "Response from Model:  The table \"credit card default\" in the \"ml_datasets\" dataset contains information about credit card holders and their payment history. It has 24 columns, including the anonymized ID of each client, credit limit, gender, education level, marital status, age, repayment status for the past 6 months, bill statement amounts for the past 6 months, previous payment amounts for the past 6 months, and an indicator for whether the client defaulted on the next month's payment. The table also includes a predicted default payment column, which is a nested record. The purpose of this table is to provide data for training and evaluating machine learning models to predict credit card defaults.\n",
      "Response from Model:  **Table: iris**\n",
      "\n",
      "**Description**: The iris table contains measurements of the sepal and petal lengths and widths of three species of iris flowers.\n",
      "\n",
      "**Purpose**: The purpose of the iris table is to provide a dataset for machine learning algorithms to use in classification tasks.\n",
      "Response from Model:  This table contains information about penguins.\n",
      "Each row in the table represents a single penguin and contains the following information:\n",
      "- species: The species of the penguin.\n",
      "- island: The island where the penguin was found.\n",
      "- culmen_length_mm: The length of the penguin's culmen (beak) in millimeters.\n",
      "- culmen_depth_mm: The depth of the penguin's culmen (beak) in millimeters.\n",
      "- flipper_length_mm: The length of the penguin's flipper in millimeters.\n",
      "- body_mass_g: The body mass of the penguin in grams.\n",
      "- sex: The sex of the penguin.\n",
      "Response from Model:  The table 'citibike_stations' in the dataset 'new_york_citibike' contains information about the Citi Bike stations in New York City. Each row in the table represents a single station, and the columns provide details such as station ID, name, location (latitude and longitude), region ID, rental methods accepted, available capacity, number of bikes available and disabled, number of docks available and disabled, and whether the station is currently installed, renting or returning bikes. The 'last_reported' column indicates the last time the station reported its status.\n",
      "Response from Model:  The table 'citibike_trips' in the dataset 'new_york_citibike' contains information about bike trips in New York City. Each row in the table represents a single trip and includes details such as trip duration, start and end times, station IDs and names, bike ID, user type, birth year, gender, and customer plan. This data can be used to analyze bike usage patterns, identify popular routes, and plan for future bike infrastructure improvements.\n",
      "Response from Model:  This\n",
      "Response from Model:  The table describes the various physical locations of banks insured by the FDIC. Each row represents a branch or main office of an FDIC-insured institution. The table includes information such as the FDIC certificate number, institution name, branch name, branch address, city, state, zip code, county, county FIPS code, state abbreviation, state name, institution class, Core Based Statistical Area (CBSA) code, CBSA name, CBSA division flag, CBSA division code, CBSA division name, CBSA metro flag, CBSA metro code, CBSA metro name, CBSA micro flag, Combined Statistical Area (CSA) flag, CSA code, CSA name, date established, FDIC UNINUM, last updated date, service type, and branch FDIC UNINUM.\n",
      "Response from Model:  The 'food enforcement' table in the 'fda_food' dataset contains information about food recalls issued by the U.S. Food and Drug Administration (FDA). Each row in the table represents a specific recall event and provides details such as the classification of the recall, the date of the recall report, the date the recall was initiated, the recall number, the city and state of the recalling firm, the reason for the recall, the initial firm notification method, the status of the recall, the product type, the product description, and more. This table can be used to analyze trends in food recalls, identify potential health hazards, and monitor the effectiveness of the FDA's food safety efforts.\n",
      "Response from Model:  The table \"food events\" in the \"fda_food\" dataset contains information about adverse events related to food products reported to the US Food and Drug Administration (FDA). Each row in the table represents an individual event report. The table includes columns for the report number, information on reactions or symptoms experienced, known outcomes or consequences of the event, brand name of the product, FDA industry code and name associated with the product, date the report was received by the FDA, date of the adverse event, reported gender and age of the consumer, as well as the unit in which the consumer's age is expressed. This table can be used to analyze and understand the nature and frequency of adverse events related to food products, identify trends and patterns, and support regulatory decision-making and public health interventions.\n"
     ]
    }
   ],
   "source": [
    "\n",
    "for i in table_list:\n",
    "    \n",
    "    \n",
    "    dataset_ref = bqclient.dataset(i['dataset'])\n",
    "    table_ref = dataset_ref.table(i['table'])\n",
    "    dataset=bqclient.get_dataset(dataset_ref)\n",
    "    table=bqclient.get_table(table_ref)\n",
    "    #print(assemble_description(dataset_ref, table_ref))\n",
    "    i['table_description'],i['description']=assemble_description(dataset_ref, table_ref,GENERATE_TABLE_DESCRIPTIONS)\n",
    "    #print(dataset_ref,table_ref)"
   ]
  },
  {
   "cell_type": "markdown",
   "metadata": {},
   "source": [
    "### Create embeddings from descriptions"
   ]
  },
  {
   "cell_type": "code",
   "execution_count": 14,
   "metadata": {},
   "outputs": [
    {
     "ename": "ModuleNotFoundError",
     "evalue": "No module named 'langchain'",
     "output_type": "error",
     "traceback": [
      "\u001b[0;31m---------------------------------------------------------------------------\u001b[0m",
      "\u001b[0;31mModuleNotFoundError\u001b[0m                       Traceback (most recent call last)",
      "Cell \u001b[0;32mIn[14], line 3\u001b[0m\n\u001b[1;32m      1\u001b[0m \u001b[38;5;28;01mimport\u001b[39;00m \u001b[38;5;21;01mchromadb\u001b[39;00m\n\u001b[1;32m      2\u001b[0m \u001b[38;5;28;01mfrom\u001b[39;00m \u001b[38;5;21;01mchromadb\u001b[39;00m\u001b[38;5;21;01m.\u001b[39;00m\u001b[38;5;21;01mutils\u001b[39;00m \u001b[38;5;28;01mimport\u001b[39;00m embedding_functions\n\u001b[0;32m----> 3\u001b[0m \u001b[38;5;28;01mimport\u001b[39;00m \u001b[38;5;21;01mlangchain\u001b[39;00m\n\u001b[1;32m      4\u001b[0m \u001b[38;5;28;01mfrom\u001b[39;00m \u001b[38;5;21;01mlangchain\u001b[39;00m\u001b[38;5;21;01m.\u001b[39;00m\u001b[38;5;21;01membeddings\u001b[39;00m \u001b[38;5;28;01mimport\u001b[39;00m VertexAIEmbeddings\n\u001b[1;32m      5\u001b[0m \u001b[38;5;28;01mfrom\u001b[39;00m \u001b[38;5;21;01mvertexai\u001b[39;00m\u001b[38;5;21;01m.\u001b[39;00m\u001b[38;5;21;01mlanguage_models\u001b[39;00m \u001b[38;5;28;01mimport\u001b[39;00m TextEmbeddingModel\n",
      "\u001b[0;31mModuleNotFoundError\u001b[0m: No module named 'langchain'"
     ]
    }
   ],
   "source": [
    "import chromadb\n",
    "from chromadb.utils import embedding_functions\n",
    "import langchain\n",
    "from langchain.embeddings import VertexAIEmbeddings\n",
    "from vertexai.language_models import TextEmbeddingModel"
   ]
  },
  {
   "cell_type": "code",
   "execution_count": null,
   "metadata": {},
   "outputs": [],
   "source": [
    "\n",
    "chromaclient = chromadb.Client()\n",
    "collection = chromaclient.get_or_create_collection(\"my_tables\")\n"
   ]
  },
  {
   "cell_type": "markdown",
   "metadata": {},
   "source": [
    "## Load embeddings into vector database"
   ]
  },
  {
   "cell_type": "code",
   "execution_count": null,
   "metadata": {},
   "outputs": [],
   "source": [
    "from chromadb import Documents, EmbeddingFunction, Embeddings\n",
    "from chromadb.utils import embedding_functions\n",
    "from langchain.vectorstores import Chroma\n",
    "from langchain.embeddings import VertexAIEmbeddings\n"
   ]
  },
  {
   "cell_type": "code",
   "execution_count": null,
   "metadata": {},
   "outputs": [],
   "source": [
    "\n",
    "#VAIembeddings=VertexAIEmbeddings(model_name='textembedding-gecko@002')\n",
    "#model = TextEmbeddingModel.from_pretrained(\"textembedding-gecko@002\")\n"
   ]
  },
  {
   "cell_type": "markdown",
   "metadata": {},
   "source": [
    "### We're not calling embedding functions ourselves. \n",
    "We point ChromaDB to use Vertex Embeddings every time new document is loaded or every time a query to DB is made"
   ]
  },
  {
   "cell_type": "code",
   "execution_count": null,
   "metadata": {},
   "outputs": [],
   "source": [
    "\n",
    "#for non english embeddings use model_name=textembedding-gecko-multilingual@001\n",
    "\n",
    "db=Chroma(client=chromaclient,collection_name='my_tables',embedding_function=VertexAIEmbeddings(model_name='textembedding-gecko@001',task_type=\"SEMANTIC_SIMILARITY\"))"
   ]
  },
  {
   "cell_type": "code",
   "execution_count": null,
   "metadata": {},
   "outputs": [],
   "source": [
    "from langchain.docstore.document import Document\n",
    "\n",
    "\n",
    "for i in table_list:\n",
    "    doc=Document(page_content=i['description'],metadata={'dataset': i['dataset'],'table': i['table'],'table_description' : i['table_description']},id=i['table'])\n",
    "    db.add_documents( documents=[doc],                    \n",
    "                     ids=[i['table']]\n",
    "    )"
   ]
  },
  {
   "cell_type": "markdown",
   "metadata": {},
   "source": [
    "## Query the vector store"
   ]
  },
  {
   "cell_type": "markdown",
   "metadata": {},
   "source": [
    "db.similarity_search_with_relevance_scores(query=\"yummy\", k=5, threshold=0.5, return_relevance_scores=True)"
   ]
  },
  {
   "cell_type": "code",
   "execution_count": null,
   "metadata": {},
   "outputs": [],
   "source": [
    "output=db.similarity_search_with_relevance_scores(query=\"bicycles\", k=5, threshold=0.5, return_relevance_scores=True)"
   ]
  },
  {
   "cell_type": "code",
   "execution_count": null,
   "metadata": {},
   "outputs": [
    {
     "name": "stdout",
     "output_type": "stream",
     "text": [
      "(Document(page_content='Dataset name: \\'fdic_banks\\', Dataset description:\\'None\\', Table name:\"locations\", Table description:\\' The table describes the various physical locations of banks insured by the FDIC. Each row represents a branch or main office of an FDIC-insured institution. The table includes information such as the FDIC certificate number, institution name, branch name, branch address, city, state, zip code, county, county FIPS code, state abbreviation, state name, institution class, Core Based Statistical Area (CBSA) code, CBSA name, CBSA division flag, CBSA division code, CBSA division name, CBSA metro flag, CBSA metro code, CBSA metro name, CBSA micro flag, Combined Statistical Area (CSA) flag, CSA code, CSA name, date established, FDIC UNINUM, last updated date, service type, and branch FDIC UNINUM.\\'Schema attributes: column-name: fdic_certificate_number, column-type:\"STRING\" ,column-description: \"A unique number assigned by the FDIC used to identify institutions and for the issuance of insurance certificates.\",column-name: institution_name, column-type:\"STRING\" ,column-description: \"The legal name of the institution.\",column-name: branch_name, column-type:\"STRING\" ,column-description: \"Name of the branch.\",column-name: branch_number, column-type:\"STRING\" ,column-description: \"The branch\\'s corresponding office number.\",column-name: main_office, column-type:\"BOOLEAN\" ,column-description: \"The main office for the institution.\",column-name: branch_address, column-type:\"STRING\" ,column-description: \"Street address at which the branch is physically located.\",column-name: branch_city, column-type:\"STRING\" ,column-description: \"City in which branch is physically located.\",column-name: zip_code, column-type:\"STRING\" ,column-description: \"The first five digits of the full postal zip code representing physical location of the branch.\",column-name: branch_county, column-type:\"STRING\" ,column-description: \"County where the branch is physically located.\",column-name: county_fips_code, column-type:\"STRING\" ,column-description: \"A five digit number representing the state and county in which the institution is physically located.  The first two digits represent the FIPS state numeric code and the last three digits represent the FIPS county numeric code.\",column-name: state, column-type:\"STRING\" ,column-description: \"State abbreviation in which the branch is physically located. The FDIC Act defines state as any State of the United States, the District of Columbia, and any territory of the United States, Puerto Rico, Guam, American Samoa, the Trust Territory of the Pacific Islands, the Virgin Island, and the Northern Mariana Islands.\",column-name: state_name, column-type:\"STRING\" ,column-description: \"State in which the  branch is physically located. The FDIC Act defines state as any State of the United States, the District of Columbia, and any territory of the United States, Puerto Rico, Guam, American Samoa, the Trust Territory of the Pacific Islands, the Virgin Island, and the Northern Mariana Islands.\",column-name: institution_class, column-type:\"STRING\" ,column-description: \"\"A classification code assigned by the FDIC based on the institution\\'s charter type (commercial bank or savings institution), charter agent (state or federal), Federal Reserve membership status (Fed member, Fed nonmember) and its primary federal regulator (state chartered institutions are subject to both federal and state supervision). N -Commercial bank, national (federal) charter and Fed member, supervised by the Office of the Comptroller of the Currency (OCC) NM -Commercial bank, state charter and Fed nonmember, supervised by the FDIC OI - Insured U.S. branch of a foreign chartered institution (IBA) SA - Savings associations, state or federal charter, supervised by the Office of Thrift Supervision (OTS) SB - Savings banks, state charter, supervised by the FDIC SM - Commercial bank, state charter and Fed member, supervised by the Federal Reserve (FRB)\"\",column-name: cbsa_fips_code, column-type:\"STRING\" ,column-description: \"Numeric code of the Core Based Statistical Area (CBSA) as defined by the US Census Bureau Office of Management and Budget.\",column-name: cbsa_name, column-type:\"STRING\" ,column-description: \"Name of the Core Based Statistical Area (CBSA) as defined by the US Census Bureau Office of Management and Budget.\",column-name: cbsa_division_flag, column-type:\"BOOLEAN\" ,column-description: \"A flag indicating member of a Core Based Statistical Division as defined by the US Census Bureau Office of Management and Budget.\",column-name: cbsa_division_fips_code, column-type:\"INTEGER\" ,column-description: \"Numeric code of the Core Based Statistical Division as defined by the US Census Bureau Office of Management and Budget.\",column-name: cbsa_division_name, column-type:\"STRING\" ,column-description: \"Name of the Core Based Statistical Division as defined by the US Census Bureau Office of Management and Budget.\",column-name: cbsa_metro_flag, column-type:\"BOOLEAN\" ,column-description: \"A flag used to indicate whether an branch is in a Metropolitan Statistical Area as defined by the US Census Bureau Office of Management and Budget\",column-name: cbsa_metro_fips_code, column-type:\"STRING\" ,column-description: \"Numeric code of the Metropolitan Statistical Area as defined by the US Census Bureau Office of Management and Budget\",column-name: cbsa_metro_name, column-type:\"STRING\" ,column-description: \"Name of the Metropolitan Statistical Area as defined by the US Census Bureau Office of Management and Budget\",column-name: cbsa_micro_flag, column-type:\"BOOLEAN\" ,column-description: \"A flag (1=Yes) used to indicate whether an branch is in a Micropolitan Statistical Area as defined by the US Census Bureau Office of Management and Budget\",column-name: csa_flag, column-type:\"BOOLEAN\" ,column-description: \"Flag (1=Yes) indicating member of a Combined Statistical Area (CSA) as defined by the US Census Bureau Office of Management and Budget\",column-name: csa_fips_code, column-type:\"STRING\" ,column-description: \"Numeric code of the Combined Statistical Area (CSA) as defined by the US Census Bureau Office of Management and Budget\",column-name: csa_name, column-type:\"STRING\" ,column-description: \"Name of the Combined Statistical Area (CSA) as defined by the US Census Bureau Office of Management and Budget\",column-name: date_established, column-type:\"DATE\" ,column-description: \"The date on which the branch began operations.\",column-name: fdic_uninum, column-type:\"STRING\" ,column-description: \"This is the FDIC UNINUM of the institution that owns the branch. A UNINUM is a unique sequentially number added to the FDIC database for both banks and branches. There is no pattern imbedded within the number. The FI_UNINUM is updated with every merger or purchase of branches to reflect the most current owner.\",column-name: last_updated, column-type:\"DATE\" ,column-description: \"The day the institution information was updated.\",column-name: service_type, column-type:\"STRING\" ,column-description: \"\"Define the various types of offices of FDIC-insured institutions. 11 -  Full Service Brick and Mortar Office 12 -  Full Service Retail Office 13 -  Full Service Cyber Office 14 -  Full Service Mobile Office 15 -  Full Service Home/Phone Banking 16 -  Full Service Seasonal Office 21 -  Limited Service Administrative Office 22 -  Limited Service Military Facility 23 -  Limited Service Facility Office 24 -  Limited Service Loan Production Office 25 -  Limited Service Consumer Credit Office 26 -  Limited Service Contractual Office 27 -  Limited Service Messenger Office 28 -  Limited Service Retail Office 29 -  Limited Service Mobile Office 30 -  Limited Service Trust Office\"\",column-name: branch_fdic_uninum, column-type:\"STRING\" ,column-description: \"Unique Identification Number for a Branch Office as assigned by the FDIC\"', metadata={'dataset': 'fdic_banks', 'table': 'locations', 'table_description': ' The table describes the various physical locations of banks insured by the FDIC. Each row represents a branch or main office of an FDIC-insured institution. The table includes information such as the FDIC certificate number, institution name, branch name, branch address, city, state, zip code, county, county FIPS code, state abbreviation, state name, institution class, Core Based Statistical Area (CBSA) code, CBSA name, CBSA division flag, CBSA division code, CBSA division name, CBSA metro flag, CBSA metro code, CBSA metro name, CBSA micro flag, Combined Statistical Area (CSA) flag, CSA code, CSA name, date established, FDIC UNINUM, last updated date, service type, and branch FDIC UNINUM.'}), 0.4185909682879786)\n",
      "(Document(page_content='Dataset name: \\'fdic_banks\\', Dataset description:\\'None\\', Table name:\"institutions\", Table description:\\' This\\'Schema attributes: column-name: fdic_certificate_number, column-type:\"STRING\" ,column-description: \"A unique number assigned by the FDIC used to identify institutions and for the issuance of insurance certificates.\",column-name: institution_name, column-type:\"STRING\" ,column-description: \"The legal name of the institution.\",column-name: state_name, column-type:\"STRING\" ,column-description: \"State in which the the institution is physically located. The FDIC Act defines state as any State of the United States, the District of Columbia, and any territory of the United States, Puerto Rico, Guam, American Samoa, the Trust Territory of the Pacific Islands, the Virgin Island, and the Northern Mariana Islands.\",column-name: fdic_id, column-type:\"STRING\" ,column-description: \"FDIC\\'s unique identifier number for holding companies, banks, branches and nondeposit subsidiaries.\",column-name: docket, column-type:\"STRING\" ,column-description: \"An identification number assigned to institutions chartered by the office of thrift supervision or members of the federal housing finance board (FHFB) and formerly by the federal home loan bank board.  The value is \"00000\" for institutions not members of the FHFB.\",column-name: active, column-type:\"BOOLEAN\" ,column-description: \"Institutions that are currently open and insured by the FDIC\",column-name: address, column-type:\"STRING\" ,column-description: \"Street address at which the institution or one of its branches is physically located.\",column-name: total_assets, column-type:\"INTEGER\" ,column-description: \"The sum of all assets owned by the institution including cash, loans, securities, bank premises and other assets. This total does not include off-balance-sheet accounts.\",column-name: bank_charter_class, column-type:\"STRING\" ,column-description: \"A classification code assigned by the FDIC based on the institution\\'s charter type (commercial bank or savings institution), charter agent (state or federal), Federal Reserve membership status (Fed member, Fed nonmember)and its primary federal regulator (state chartered institutions are subject to both federal and state supervision).   N = commercial bank, national (federal) charter and Fed member, supervised by the Office of the Comptroller of the Currency (OCC)  SM = commercial bank, state charter and Fed member, supervised by the Federal Reserve (FRB)  NM = commercial bank, state charter and Fed nonmember, supervised by the FDIC  SB = savings banks, state charter, supervised by the FDIC  SA = savings associations, state or federal charter, supervised by the Office of Thrift Supervision (OTS)  OI = insured U.S. branch of a foreign chartered institution (IBA)\",column-name: change_code_1, column-type:\"STRING\" ,column-description: \"FDIC code used to signify a structural event relating to an institution.  The definitions of the codes are available in the `bigquery-public-data.fdic_banks.change_codes`\",column-name: change_code_2, column-type:\"STRING\" ,column-description: \"FDIC code used to signify a structural event relating to an institution.  The definitions of the codes are available in the `bigquery-public-data.fdic_banks.change_codes`\",column-name: change_code_3, column-type:\"STRING\" ,column-description: \"FDIC code used to signify a structural event relating to an institution.  The definitions of the codes are available in the `bigquery-public-data.fdic_banks.change_codes`\",column-name: change_code_4, column-type:\"STRING\" ,column-description: \"FDIC code used to signify a structural event relating to an institution.  The definitions of the codes are available in the `bigquery-public-data.fdic_banks.change_codes`\",column-name: change_code_5, column-type:\"STRING\" ,column-description: \"FDIC code used to signify a structural event relating to an institution.  The definitions of the codes are available in the `bigquery-public-data.fdic_banks.change_codes`\",column-name: change_code_6, column-type:\"STRING\" ,column-description: \"FDIC code used to signify a structural event relating to an institution.  The definitions of the codes are available in the `bigquery-public-data.fdic_banks.change_codes`\",column-name: change_code_7, column-type:\"STRING\" ,column-description: \"FDIC code used to signify a structural event relating to an institution.  The definitions of the codes are available in the `bigquery-public-data.fdic_banks.change_codes`\",column-name: change_code_8, column-type:\"STRING\" ,column-description: \"FDIC code used to signify a structural event relating to an institution.  The definitions of the codes are available in the `bigquery-public-data.fdic_banks.change_codes`\",column-name: change_code_9, column-type:\"STRING\" ,column-description: \"FDIC code used to signify a structural event relating to an institution.  The definitions of the codes are available in the `bigquery-public-data.fdic_banks.change_codes`\",column-name: change_code_10, column-type:\"STRING\" ,column-description: \"FDIC code used to signify a structural event relating to an institution.  The definitions of the codes are available in the `bigquery-public-data.fdic_banks.change_codes`\",column-name: change_code_11, column-type:\"STRING\" ,column-description: \"FDIC code used to signify a structural event relating to an institution.  The definitions of the codes are available in the `bigquery-public-data.fdic_banks.change_codes`\",column-name: change_code_12, column-type:\"STRING\" ,column-description: \"FDIC code used to signify a structural event relating to an institution.  The definitions of the codes are available in the `bigquery-public-data.fdic_banks.change_codes`\",column-name: change_code_13, column-type:\"STRING\" ,column-description: \"FDIC code used to signify a structural event relating to an institution.  The definitions of the codes are available in the `bigquery-public-data.fdic_banks.change_codes`\",column-name: change_code_14, column-type:\"STRING\" ,column-description: \"FDIC code used to signify a structural event relating to an institution.  The definitions of the codes are available in the `bigquery-public-data.fdic_banks.change_codes`\",column-name: change_code_15, column-type:\"STRING\" ,column-description: \"FDIC code used to signify a structural event relating to an institution.  The definitions of the codes are available in the `bigquery-public-data.fdic_banks.change_codes`\",column-name: occ_charter, column-type:\"STRING\" ,column-description: \"A unique number assigned by the Office of the Comptroller of the Currency (OCC) used to identify institutions that it has chartered and regulates (i.e. national  banks).\",column-name: chartering_agency, column-type:\"STRING\" ,column-description: \"All Chartering Agencies - State and Federal  Comptroller of the Currency - Chartering authority for nationally chartered commercial banks and for federally chartered savings associations (The Office of Thrift Supervision (OTS) before 7/21/11)  State (includes U.S. Territories) - Chartering authority for institutions that are not chartered by the OCC or OTS\",column-name: conservatorship, column-type:\"BOOLEAN\" ,column-description: \"A flag that indicates if an institution is being operated in government conservatorship.\",column-name: city, column-type:\"STRING\" ,column-description: \"City in which an institution\\'s headquarters or one of its branches is physically located.\",column-name: category_code, column-type:\"STRING\" ,column-description: \"Numeric code which identifies the major and minor categories of an institution.  Definitions of these are available in`bigquery-public-data.fdic_banks.category_code`\",column-name: county_fips_code, column-type:\"STRING\" ,column-description: \"A five digit number representing the state and county in which the institution is physically located.  The first two digits represent the FIPS state numeric code and the last three digits represent the FIPS county numeric code.\",column-name: county_name, column-type:\"STRING\" ,column-description: \"County where the institution is physically located (abbreviated if the county name exceeds 16 characters).\",column-name: established_date, column-type:\"DATE\" ,column-description: \"The date on which the institution began operations.\",column-name: last_updated, column-type:\"DATE\" ,column-description: \"Date the data was last updated\",column-name: effective_date, column-type:\"DATE\" ,column-description: \"Effective Start Date of the data contained in this row.\",column-name: end_effective_date, column-type:\"DATE\" ,column-description: \"The date that ends or closes out the last structural event relating to an institution. For closed institutions, this date represents the day that the institution became inactive.\",column-name: denovo_institute, column-type:\"BOOLEAN\" ,column-description: \"A flag used to indicate whether an institution is a new institution (not a recharter). This flag is set quarterly. For instance, if REPDTE is 3/31/98 and DENOVO equals 1, the institution was a denovo during the first quarter of 1998.\",column-name: total_deposits, column-type:\"INTEGER\" ,column-description: \"The sum of all deposits including demand deposits, money market deposits, other savings deposits, time deposits and deposits in foreign offices.\",column-name: equity_capital, column-type:\"INTEGER\" ,column-description: \"Total equity capital (includes preferred and common stock, surplus and undivided profits).\",column-name: fdic_geo_region, column-type:\"STRING\" ,column-description: \"The FDIC Office assigned to the geographic area.  The eight FDIC Regions and their respective states are:    Boston - Connecticut, Maine, Massachusetts, New Hampshire, Rhode Island, Vermont  New York - Delaware, District of Columbia, Maryland, New Jersey, New York, Pennsylvania, Puerto Rico, U.S. Virgin Islands  Atlanta - Alabama, Florida, Georgia, North Carolina, South Carolina, Virginia, West Virginia  Memphis - Arkansas, Kentucky, Louisiana, Mississippi, Tennessee  Chicago - Illinois, Indiana, Michigan, Ohio, Wisconsin   Kansas City - Iowa, Kansas, Minnesota, Missouri, Nebraska, North Dakota, South Dakota  Dallas - Colorado, New Mexico, Oklahoma, Texas  San Francisco - Alaska, American Samoa, Arizona, California, Guam, Hawaii, Idaho, Montana, Nevada, Oregon, States of Micronesia, Utah, Washington, Wyoming\",column-name: fdic_supervisory_region, column-type:\"STRING\" ,column-description: \"The supervisory FDIC office assigned to the institution.  The eight FDIC Supervisory Regions and their respective states are:    Boston - Connecticut, Maine, Massachusetts, New Hampshire, Rhode Island, Vermont  New York - Delaware, District of Columbia, Maryland, New Jersey, New York, Pennsylvania, Puerto Rico, U.S. Virgin Islands  Atlanta - Alabama, Florida, Georgia, North Carolina, South Carolina, Virginia, West Virginia  Memphis - Arkansas, Kentucky, Louisiana, Mississippi, Tennessee  Chicago - Illinois, Indiana, Michigan, Ohio, Wisconsin   Kansas City - Iowa, Kansas, Minnesota, Missouri, Nebraska, North Dakota, South Dakota  Dallas - Colorado, New Mexico, Oklahoma, Texas  San Francisco - Alaska, American Samoa, Arizona, California, Guam, Hawaii, Idaho, Montana, Nevada, Oregon, States of Micronesia, Utah, Washington, Wyoming\",column-name: fdic_supervisory_region_code, column-type:\"STRING\" ,column-description: \"\"A numeric value associated with the name of an FDIC supervisory region  2 - New York - states: Connecticut, Delaware, Maine, Maryland, Massachusetts, New Hampshire, New Jersey, New York, Pennsylvania, Puerto Rico, Rhode Island, Vermont, Virgin Islands  5 - Atlanta - states: Alabama, Florida, Georgia, North Carolina, South Carolina, Virginia  9 - Chicago - states: Illinois, Indiana, Kentucky, Michigan, Ohio  11 - Kansas City - states: Iowa, Kansas, Minnesota, Missouri, Nebraska, North Dakota, South Dakota  13 - Dallas - states: Arkansas, Colorado, Louisiana, Mississippi, New Mexico, Oklahoma, Tennessee, Texas  14 - San Francisco - states: Alaska, American Samoa, Arizona, California, Federated States of Micronesia, Guam, Hawaii, Idaho, Montana, Nevada, Oregon, Utah, Washington, Wyoming  15 - Washington Office - Division of Risk Management Supervision (RMS)  16 - Washington Office - The Office of Complex Financial Institutions (CFI) \"\",column-name: fed_reserve_district, column-type:\"STRING\" ,column-description: \"\",column-name: fed_reserve_district_id, column-type:\"STRING\" ,column-description: \"A number used to identify the Federal Reserve district in which the institution is located. 01 = Boston,  02 - New York, 03 = Philadelphia,  04 = Cleveland, 05 = Richmond, 06 = Atlanta, 07 = Chicago, 08 - St. Louis, 09 = Minneapolis, 10 - Kansas city, 11 = Dallas, 12 - San Francisco\",column-name: fed_reserve_unique_id, column-type:\"STRING\" ,column-description: \"A unique number assigned by the Federal Reserve board as the entity\\'s unique identifier\",column-name: federal_charter, column-type:\"BOOLEAN\" ,column-description: \"A flag used to indicate whether the institution is chartered by an agent of the federal government.\",column-name: fdic_field_office, column-type:\"STRING\" ,column-description: \"The FDIC Field Office where an institution is physically located.\",column-name: iba, column-type:\"BOOLEAN\" ,column-description: \"Includes Bank Insurance Fund insured branches in the U.S. established by banks chartered and headquartered in foreign countries.  These institutions are regulated by one of the three Federal commercial bank regulators and submit financial data to the Federal Reserve.\",column-name: inactive_flag, column-type:\"BOOLEAN\" ,column-description: \"Institutions that are currently closed but were once insured by the FDIC.\",column-name: insurance_fund_membership, column-type:\"STRING\" ,column-description: \"Deposit Insurance Fund (DIF), Bank Insurance Fund (BIF), Savings Association Insurance Fund (SAIF)\",column-name: secondary_insurance_fund, column-type:\"STRING\" ,column-description: \"As a result of the establishment of a single Deposit Insurance Fund (DIF) effective April 1, 2006, the Secondary Insurance fund is no longer applicable. previously both bif and saif bank insurance fund - institutions that are members of the bank insurance fund savings association insurance fund - Institutions that are members of the Savings Association Insurance Fund\",column-name: deposit_insurance_date, column-type:\"DATE\" ,column-description: \"The date that an institution obtained federal deposit insurance.\",column-name: credit_card_institution, column-type:\"BOOLEAN\" ,column-description: \"Institutions with total loans greater than 50% of total assets and credit card loans greater than 50% of total loans, including loans that have been securitized and sold.\",column-name: bank_insurance_fund_member, column-type:\"BOOLEAN\" ,column-description: \"Institutions who are members of the Bank Insurance Fund. As of April 1, 2006 BIF was merged together with the Savings Institution Insurance Fund (SAIF) to create a single Deposit Insurance Fund (DIF).  All FDIC insured BIF member institutions, that are still active or open, are now insured members of DIF.\",column-name: insured_commercial_bank, column-type:\"BOOLEAN\" ,column-description: \"Includes commercial banks insured by the FDIC.  These institutions are regulated by one of the three Federal commercial bank regulators (FDIC, Federal Reserve Board, or Office of the Comptroller of the Currency).  They submit financial reports to the Federal Reserve (state member banks) or the FDIC (state non-member banks and national banks).\",column-name: deposit_insurance_fund_member, column-type:\"BOOLEAN\" ,column-description: \"\"A flag used to indicate whether an institution is insured under the Deposit Insurance Fund (DIF).  As of April 1, 2006 the Bank Insurance Fund (BIF) was merged together with the Savings Institution Insurance Fund (SAIF) to create a single Deposit Insurance Fund (DIF).  All FDIC insured BIF and SAIF member institutions that are still active or open are now insured members of DIF.    False = No, not DIF insured and True = Yes, DIF insured.  Note that institutions that became inactive prior to April 2006 will also have false value.   \"\",column-name: fdic_insured, column-type:\"BOOLEAN\" ,column-description: \"Includes institutions insured by the FDIC.\",column-name: saif_insured, column-type:\"BOOLEAN\" ,column-description: \"Institutions who are members of the Savings Association Insurance Fund. As of April 1, 2006 SAIF was merged together with the Bank Insurance Fund (BIF) to create a single Deposit Insurance Fund (DIF).  All FDIC insured SAIF member institutions, that are still active or open, are now insured members of DIF.\",column-name: insured_savings_institute, column-type:\"BOOLEAN\" ,column-description: \"Includes savings institutions insured by the FDIC that operate under state or federal banking codes applicable to thrift institutions.  These institutions are regulated by and submit financial reports to one of two Federal regulators (FDIC or Office of Thrift Supervision).\",column-name: new_cert_number, column-type:\"STRING\" ,column-description: \"A new certificate number of an already existing FDIC-insured institution resulting from either a merger or an acquisition.\",column-name: oakar_institute, column-type:\"BOOLEAN\" ,column-description: \"A member of one insurance fund that acquired deposits insured by the other fund, where that portion of the buyer\\'s deposits remained insured by, and assessable by, the other fund.\",column-name: ots_region, column-type:\"STRING\" ,column-description: \"Prior to 7/21/11, the Office of Thrift Supervision (OTS) Region in which the institution is physically located. The five OTS Regions and their respective states are: Northeast - Connecticut, Delaware, Maine, Massachusetts, New Hampshire, New Jersey, New York, Pennsylvania, Rhode Island, Vermont, West Virginia Southeast - Alabama, District of Columbia, Florida, Georgia, Maryland, North Carolina, Puerto Rico, South Carolina, U.S. Virgin Islands, Virginia Central - Illinois, Indiana, Kentucky, Michigan, Ohio, Tennessee, Wisconsin Midwest - Arkansas, Colorado, Iowa, Kansas, Louisiana, Minnesota, Mississippi, Missouri, Nebraska, New Mexico, North Dakota, Oklahoma, South Dakota, Texas West - Alaska, American Samoa, Arizona, California, Guam, Hawaii, Idaho, Montana, Nevada, States of Micronesia, Oregon, Utah, Washington, Wyoming \"\",column-name: last_structural_change, column-type:\"DATE\" ,column-description: \"A date field indicating the date that a change to this record was processed. Standard format = \"CCYYMMDD\" (Length = 8) which has been converted to Month, Day, Year format for display purposes.\",column-name: qbp_region, column-type:\"STRING\" ,column-description: \"The Quarterly Banking Profile (QBP) Commercial Bank Region in which the institution is physically located.\",column-name: regulator, column-type:\"STRING\" ,column-description: \"\",column-name: report_date, column-type:\"DATE\" ,column-description: \"The last day of the financial reporting period selected.\",column-name: reporting_period_end_date, column-type:\"DATE\" ,column-description: \"The financial reporting period selected in CCYYMM format.\",column-name: state_chartered, column-type:\"BOOLEAN\" ,column-description: \"A flag that indicates if an institution is state chartered.\",column-name: return_on_assets, column-type:\"FLOAT\" ,column-description: \"Net income after taxes and extraordinary items (annualized) as a percent of average total assets.\",column-name: roa_quarterly, column-type:\"FLOAT\" ,column-description: \"Quarterly net income after taxes and extraordinary items as a percent of average total assets.\",column-name: roa_pretax, column-type:\"FLOAT\" ,column-description: \"Annualized pre-tax net income as a percent of average assets. Note: Includes extraordinary items and other adjustments, net of taxes.\",column-name: row_pretax_quarterly, column-type:\"FLOAT\" ,column-description: \"Quarterly pre-tax net income as a percent of average assets. Note: Includes extraordinary items and other adjustments, net of taxes.\",column-name: return_on_equity, column-type:\"FLOAT\" ,column-description: \"Annualized net income as a percent of average equity on a consolidated basis.     Note: If retained earnings are  negative, the ratio is shown as NA.\",column-name: roe_quarterly, column-type:\"FLOAT\" ,column-description: \"Quarterly net income (including gains or losses on securities and extraordinary items) as a percentage of average total equity capital.\",column-name: run_date, column-type:\"DATE\" ,column-description: \"The day the institution information was updated.\",column-name: sasser_institute, column-type:\"BOOLEAN\" ,column-description: \"OTS supervised savings associations that converted their charter to that of a commercial or savings bank.  Converted associations remain members of the SAIF, but they become subject to supervision by one of the three federal banking agencies. Not Applicable as of March 31, 2006.\",column-name: law_sasser, column-type:\"BOOLEAN\" ,column-description: \"A flag associated with OTS supervised savings associations that converted their charter to that of a commercial or savings bank.  Converted associations remain members of the SAIF, but they become subject to supervision by one of the three federal banking agencies. Not Applicable as of March 31, 2006.\",column-name: state, column-type:\"STRING\" ,column-description: \"2 letter postal abbreviation for the state in which the the headquarters are physically located. The FDIC Act defines state as any State of the United States, the District of Columbia, and any territory of the United States, Puerto Rico, Guam, American Samoa, the Trust Territory of the Pacific Islands, the Virgin Island, and the Northern Mariana Islands.\",column-name: state_fips_code, column-type:\"STRING\" ,column-description: \"2 digit FIPS code to uniquely identify the state\",column-name: trade_name_1, column-type:\"STRING\" ,column-description: \"Trade name other than the institution\\'s legal name used to identify one of the institution\\'s physical offices at which deposits are accepted or solicited from the public\",column-name: trade_name_2, column-type:\"STRING\" ,column-description: \"Trade name other than the institution\\'s legal name used to identify one of the institution\\'s physical offices at which deposits are accepted or solicited from the public\",column-name: trade_name_3, column-type:\"STRING\" ,column-description: \"Trade name other than the institution\\'s legal name used to identify one of the institution\\'s physical offices at which deposits are accepted or solicited from the public\",column-name: trade_name_4, column-type:\"STRING\" ,column-description: \"Trade name other than the institution\\'s legal name used to identify one of the institution\\'s physical offices at which deposits are accepted or solicited from the public\",column-name: trade_name_5, column-type:\"STRING\" ,column-description: \"Trade name other than the institution\\'s legal name used to identify one of the institution\\'s physical offices at which deposits are accepted or solicited from the public\",column-name: trade_name_6, column-type:\"STRING\" ,column-description: \"Trade name other than the institution\\'s legal name used to identify one of the institution\\'s physical offices at which deposits are accepted or solicited from the public\",column-name: zip_code, column-type:\"STRING\" ,column-description: \"The first three, four, or five digits of the full postal zip code representing physical location of the institution or its branch office.\",column-name: occ_district, column-type:\"STRING\" ,column-description: \"The Office of the Comptroller of the Currency (OCC) District in which the institution is physically located. The six OCC Districts and their respective states are: Northeast - Connecticut, Delaware, District of Columbia, Maine, Maryland, Massachusetts, New Hampshire, New Jersey, New York, Pennsylvania, Puerto Rico, Rhode Island, Vermont, U.S. Virgin Islands  Southeast - Alabama, Florida, Georgia, Mississippi, North Carolina, South Carolina, Tennessee, Virginia, West Virginia  Central - Illinois, Indiana, Kentucky, Michigan, Ohio, Wisconsin  Midwest - Iowa, Kansas, Minnesota, Missouri, Nebraska, North Dakota, South Dakota  Southwest - Arkansas, Louisiana, New Mexico, Oklahoma, Texas  West - Alaska, American Samoa, Arizona, California, Colorado, Guam, Hawaii, Idaho, Montana, Nevada, Oregon, States of Micronesia, Utah, Washington, Wyoming\",column-name: ultimate_cert_number, column-type:\"STRING\" ,column-description: \"The cert number of the last successor or acquirer of the institution\",column-name: cfpb_supervisory_flag, column-type:\"BOOLEAN\" ,column-description: \"Indicates secondary supervision by CFPB\",column-name: cfpb_supervisory_start_date, column-type:\"DATE\" ,column-description: \"Date the institution began secondary supervision by CFPB\",column-name: cfpb_supervisory_end_date, column-type:\"DATE\" ,column-description: \"Date the institution ended supervision by CFPB\",column-name: offices_count, column-type:\"INTEGER\" ,column-description: \"\",column-name: parent_fdic_cert, column-type:\"STRING\" ,column-description: \"FDIC certificate number of the parent bank or savings institution with which the reported institution;s financial data has been consolidated. Beginning in March 1997, both the Thrift Financial Reports and Call Reports are completed on a fully consolidated basis. Previously, the consolidation of subsidiary depository institutions was prohibited. Now, parent institutions are required to file consolidated reports, while their subsidiary financial institutions are still required to file separate reports. Click on the certificate number to identify the parent bank or thrift.\",column-name: parent_parcert, column-type:\"STRING\" ,column-description: \"The PARCERT number identifies the subsidiary institutions parent certificate number. Beginning in March 1997, both the Thrift Financial Reports and Call Reports are completed on a fully consolidated basis. Previously, the consolidation of subsidiary depository institutions was prohibited. Now, parent institutions are required to file consolidated reports, while their subsidiary financial institutions are still required to file separate reports.\",column-name: high_holder_city, column-type:\"STRING\" ,column-description: \"City in which the headquarters of the institution\\'s regulatory high holder are physically located.\",column-name: total_domestic_deposits, column-type:\"INTEGER\" ,column-description: \"The sum of all domestic office deposits, including demand deposits, money market deposits, other savings deposits and time deposits.\",column-name: ffiec_call_report_filer, column-type:\"BOOLEAN\" ,column-description: \"A flag that indicates whether and institution filed an FFIEC 031 Call Report. Commercial banks with domestic and foreign offices are required to file such a report.\",column-name: holding_company_flag, column-type:\"BOOLEAN\" ,column-description: \"A flag used to indicate whether an institution is a member of a multibank holding company\",column-name: ag_lending_flag, column-type:\"BOOLEAN\" ,column-description: \"A flag used to indicate whether an institution is an agricultural lending institution\",column-name: ownership_type, column-type:\"STRING\" ,column-description: \"Banking institutions fall into one of two ownership types, stock or non-stock. An institution which sells stock to raise capital is called a stock institution. It is owned by the shareholders who benefit from profits earned by the institution. A non-stock institution, or mutual institution, is owned and controlled solely by its depositors. A mutual does not issue capital stock.\",column-name: top_holder, column-type:\"STRING\" ,column-description: \"Regulatory top holder is assigned by the Federal Reserve Board based on ownership and control percentages. \"Note: Information on bank holding companies is only as of quarter-end. Regulatory top holder is any company that directly or indirectly owns, controls or has power to vote 25 percent or more of a bank\\'s or direct holding company\\'s shares or controls in any manner the election of a majority of the directors or trustees of a bank or direct holding company or exercises a controlling influence over the management or policies of a bank or direct holding company. Information on Thrift Holding Companies that own Savings Associations but do not own banks is not currently available in the ID System. Source: Federal Reserve Board National Information Center data base.\"\",column-name: net_income, column-type:\"INTEGER\" ,column-description: \"Net interest income plus total noninterest income plus realized gains (losses) on securities and extraordinary items, less total noninterest expense, loan loss provisions and income taxes.\",column-name: quarterly_net_income, column-type:\"INTEGER\" ,column-description: \"Quarterly net interest income plus total noninterest income plus realized gains (losses) on securities and extraordinary items, less total noninterest expense, loan loss provisions and income taxes.\",column-name: office_count_domestic, column-type:\"INTEGER\" ,column-description: \"The number of domestic offices (including headquarters) operated by active institutions in the 50 states of the U.S.A.\",column-name: office_count_foreign, column-type:\"INTEGER\" ,column-description: \"The number of foreign offices (outside the U.S.) operated by the institution.\",column-name: office_count_us_territories, column-type:\"INTEGER\" ,column-description: \"The number of offices operated by an FDIC-insured institution in all commonwealths and terrirtories of the US, along with those in freely associated states under the Compact of Free Association\",column-name: rssd_id, column-type:\"STRING\" ,column-description: \"The unique number assigned by the Federal Reserve Board to the regulatory high holding company of the institution.\",column-name: holding_company_state, column-type:\"STRING\" ,column-description: \"State location of the regulatory high holding company (either direct or indirect owner).\",column-name: subchap_s_indicator, column-type:\"BOOLEAN\" ,column-description: \"\",column-name: trust_powers_status, column-type:\"STRING\" ,column-description: \"\"A flag used to indicate an institution\\'s Trust Powers Granted status. 0 = No Trust Power Granted 1 = Trust Power Granted Where Trust Power has been granted specific codes are: 00 - Trust powers not know 10 - Full trust powers granted 11 - Full trust powers granted, exercised 12 - Full trust powers granted, not exercised 20 - Limited trust powers granted 21 - Limited trust powers granted, exercised 22 - Limited trust powers granted, not exercised 30 - Trust powers not granted 31 - Trust powers not granted, but exercised \"\",column-name: asset_concentration_hierarchy, column-type:\"STRING\" ,column-description: \"\"Asset Concentration Hierarchy - An indicator of an institution\\'s primary specialization in terms of asset concentration 1 - International Specialization 2 - Agricultural Specialization 3 - Credit-card Specialization  4 - Commercial Lending Specialization  5 - Mortgage Lending Specialization 6 - Consumer Lending SpecializationI 7 - Other Specialized < $1 Billion  8 - All Other < $1 Billion  9 - All Other > $1 Billion\"\",column-name: primary_specialization, column-type:\"STRING\" ,column-description: \"\" Name associated with the numeric indicator (SPECGRP) of an institution\\'s primary specialization in terms of asset concentration: 1 - International Specialization 2 - Agricultural Specialization 3 - Credit-card Specialization  4 - Commercial Lending Specialization  5 - Mortgage Lending Specialization 6 - Consumer Lending SpecializationI 7 - Other Specialized < $1 Billion  8 - All Other < $1 Billion  9 - All Other > $1 Billion\"\",column-name: csa_name, column-type:\"STRING\" ,column-description: \"\"The name associated with the numeric code that the U.S. Census Bureau Office of Management and Budget assigns for the combined statistical area (CSA) per the 2000 standards. If an institution is not defined as a CSA, the value of the field will be blank. For more information see: http://www.census.gov/population/www/estimates/metroarea.html . \"\",column-name: csa_fips_code, column-type:\"STRING\" ,column-description: \"The numeric code that the U.S. Census Bureau Office of Management and Budget assigns for the combined statistical area (CSA) per the 2000 standards. If an institution is not defined as a CSA, the value of the field will be zero. For more information see: http://www.census.gov/population/www/estimates/metroarea.html .\",column-name: csa_indicator, column-type:\"BOOLEAN\" ,column-description: \"A flag used to indicate whether an institution is in a Combined Statistical Area.\",column-name: cbsa_name, column-type:\"STRING\" ,column-description: \"The name associated with the numeric code that the U.S. Census Bureau Office of Management and Budget assigns for the CBSA. The 2000 standards provide that each CBSA must contain at least one urban area of 10,000 or more population. Metropolitan and micropolitan statistical areas are two categories of core based statistical areas. If an institution is not defined as a CBSA, the value of the field will be zero. For more information see: http://www.census.gov/population/www/estimates/metroarea.html .\",column-name: cbsa_fips_code, column-type:\"STRING\" ,column-description: \"The numeric code that the U.S. Census Bureaus Office of Management and Budget assigns for the CBSA. The 2000 standards provide that each CBSA must contain at least one urban area of 10,000 or more population. Metropolitan and micropolitan statistical areas are two categories of core based statistical areas. If an institution is not defined as a CBSA, the value of the field will be zero. For more information see: http://www.census.gov/population/www/estimates/metroarea.html .\",column-name: cbsa_metro_flag, column-type:\"BOOLEAN\" ,column-description: \"A flag used to indicate whether an institution is in a metropolitan statistical area. The US Census bureau office of Management and Budget defines the metropolitan statistical area. A core based statistical area associated with at least one urbanized area that has a population of at least 50,000. The metropolitan statistical area comprises the central county or counties containing the core, plus adjacent outlying counties having a high degree of social and economic integration with the central county as measured through commuting.\",column-name: cbsa_micro_flag, column-type:\"BOOLEAN\" ,column-description: \"A flag used to indicate whether an institution is in a micropolitan statistical area. The US Census bureau office of Management and Budget defines the micropolitan statistical area. A core based statistical area associated with at least one urbanized area that has a population of at least 50,000. The micropolitan statistical area comprises the central county or counties containing the core, plus adjacent outlying counties having a high degree of social and economic integration with the central county as measured through commuting.\",column-name: cbsa_division_name, column-type:\"STRING\" ,column-description: \"\"The name associated with the numeric code given by the US Census Bureau office of Management and Budget (2000 standards) that represents the core based statistical division (CBSADIV). A    metropolitan division is a county or group of counties    within a core based statistical area that contains a core    with a population of at least 2.5 million. A CBSA metropolitan    division consists of one or more main/secondary counties    that represent an employment center or centers, plus    adjacent counties associated with the main county or    counties through commuting ties. If an institution is not defined as a CBSA division the value of the field will be zero.\"\",column-name: cbsa_division_fips_code, column-type:\"STRING\" ,column-description: \"The numeric code given by the US Census Bureau office of Management and Budget that represents the core based statistical division (CBSADIV) under the year 2000 standards. A metropolitan division is a county or group of counties within a core based statistical area that contains a core with a population of at least 2.5 million. A CBSA metropolitan division consists of one or more main/secondary counties that represent an employment center or centers, plus adjacent counties associated with the main county or counties through commuting ties. If an institution is not defined as a CBSA division the value of the field will be zero.\",column-name: cbsa_division_flag, column-type:\"BOOLEAN\" ,column-description: \"A flag used to indicate whether an institution is in a CBSA division\"', metadata={'dataset': 'fdic_banks', 'table': 'institutions', 'table_description': ' This'}), 0.4009006715625011)\n",
      "(Document(page_content='Dataset name: \\'new_york_citibike\\', Dataset description:\\'None\\', Table name:\"citibike stations\", Table description:\\' The table \\'citibike_stations\\' in the dataset \\'new_york_citibike\\' contains information about the Citi Bike stations in New York City. Each row in the table represents a single station, and the columns provide details such as station ID, name, location (latitude and longitude), region ID, rental methods accepted, available capacity, number of bikes available and disabled, number of docks available and disabled, and whether the station is currently installed, renting or returning bikes. The \\'last_reported\\' column indicates the last time the station reported its status.\\'Schema attributes: column-name: station_id, column-type:\"STRING\" ,column-description: \"Unique identifier of a station.\",column-name: name, column-type:\"STRING\" ,column-description: \"Public name of the station.\",column-name: short_name, column-type:\"STRING\" ,column-description: \"Short name or other type of identifier, as used by the data publisher.\",column-name: latitude, column-type:\"FLOAT\" ,column-description: \"The latitude of station. The field value must be a valid WGS 84 latitude in decimal degrees format.\",column-name: longitude, column-type:\"FLOAT\" ,column-description: \"The longitude of station. The field value must be a valid WGS 84 latitude in decimal degrees format.\",column-name: region_id, column-type:\"INTEGER\" ,column-description: \"ID of the region where station is located.\",column-name: rental_methods, column-type:\"STRING\" ,column-description: \"Array of enumerables containing the payment methods accepted at this station.\",column-name: capacity, column-type:\"INTEGER\" ,column-description: \"ANumber of total docking points installed at this station, both available and unavailable.\",column-name: eightd_has_key_dispenser, column-type:\"BOOLEAN\" ,column-description: \"\",column-name: num_bikes_available, column-type:\"INTEGER\" ,column-description: \"Number of bikes available for rental.\",column-name: num_bikes_disabled, column-type:\"INTEGER\" ,column-description: \"Number of disabled bikes at the station.\",column-name: num_docks_available, column-type:\"INTEGER\" ,column-description: \"Number of docks accepting bike returns.\",column-name: num_docks_disabled, column-type:\"INTEGER\" ,column-description: \"Number of empty but disabled dock points at the station.\",column-name: is_installed, column-type:\"BOOLEAN\" ,column-description: \"Is the station currently on the street?\",column-name: is_renting, column-type:\"BOOLEAN\" ,column-description: \"Is the station currently renting bikes?\",column-name: is_returning, column-type:\"BOOLEAN\" ,column-description: \"Is the station accepting bike returns?\",column-name: eightd_has_available_keys, column-type:\"BOOLEAN\" ,column-description: \"\",column-name: last_reported, column-type:\"TIMESTAMP\" ,column-description: \"Timestamp indicating the last time this station reported its status to the backend, in NYC local time.\"', metadata={'dataset': 'new_york_citibike', 'table': 'citibike_stations', 'table_description': \" The table 'citibike_stations' in the dataset 'new_york_citibike' contains information about the Citi Bike stations in New York City. Each row in the table represents a single station, and the columns provide details such as station ID, name, location (latitude and longitude), region ID, rental methods accepted, available capacity, number of bikes available and disabled, number of docks available and disabled, and whether the station is currently installed, renting or returning bikes. The 'last_reported' column indicates the last time the station reported its status.\"}), 0.36753398097394196)\n",
      "(Document(page_content='Dataset name: \\'fcc_political_ads\\', Dataset description:\\'This dataset contains information on political advertising run by TV and radio broadcast stations. It uses files that broadcasters are required to submit to the FCC’s Public Inspection Files. This dataset includes details on broadcast stations that have submitted files, information about the files themselves, such as when they were uploaded as well as links to copies of the actual files themselves. Additionally, a dataset of manual annotations is also included, which includes information such as advertiser name, gross spend, ad air dates. This annotation dataset, listed as the content_info table, is an experimental, work-in-progress that relies on humans to manually read each PDF file and extract the data into a machine-readable format.\\n\\nTable joins:\\nTo join the broadcast_tv_radio_station, file_history and file_record tables, it is recommended to use the stationId field across each respective table.\\n\\nTo join file_history and file_record tables, use the fileId.\\n\\nTo join file_record and content_info tables, use the rawFilePath field.\\n\\nTo provide feedback on this dataset, please contact                                                                                          \\n padl-feedback@googlegroups.com\\', Table name:\"file history\", Table description:\\'Broadcasters may upload revised versions of receipts that they have previously uploaded. A copy of the history of all versions of a given receipt that have been uploaded is kept and stored in Google Cloud Storage.The file_history table contains one entry per revision of a given file_record row. Each row in the  file_record table has at least one corresponding file_history row, linked by the\\nfileId field.\\n\\nRetrieved from:\\nhttps://publicfiles.fcc.gov/developer/!/file/!/file/get_file_history_format\\'Schema attributes: column-name: fileHistoryId, column-type:\"STRING\" ,column-description: \"Primary key for file_history table\",column-name: createdTimestamp, column-type:\"TIMESTAMP\" ,column-description: \"\\n      When this file_history entry was created, i.e. the last time the\\n      broadcaster uploaded an updated file to the FCC. createdTimestap is\\n      overwhelmingly identical to lastUpdatedTimestamp, and when they differ,\\n      it is only by seconds, so you can consider them to be duplicates.\",column-name: fileExtension, column-type:\"STRING\" ,column-description: \"\\n      File extension of the original file the broadcaster sent the FCC, like\\n      \\'pdf\\', \\'docx\\' or \\'rtf\\'. Even though these might not have been PDFs\\n      originally, the FCC converts them to PDFs after upload, so all the files\\n      available via the FCC and our project are PDFs.\",column-name: fileFolderPath, column-type:\"STRING\" ,column-description: \"\\n      Path to the folder in the FCC\\'s API containing the original file, like\\n      \\'Political Files/2016/Federal/US Senate/Jane Smith\\'\",column-name: fileId, column-type:\"STRING\" ,column-description: \"None\",column-name: fileManagerId, column-type:\"STRING\" ,column-description: \"None\",column-name: fileName, column-type:\"STRING\" ,column-description: \"\\n      Name of the original file the broadcaster sent to the FCC, without the\\n      file extension, like \\'Jane Smith for California Governor Invoice\\'. Often\\n      (but not necessarily) contains interesting keywords, like names of\\n      candidates (\\'Jane Smith\\') or locales (\\'California\\'). Other times, \\n      a generic file name with no interesting keywords like \\'Receipt\\n      1234\\'.\",column-name: fileSize, column-type:\"INTEGER\" ,column-description: \"\\n      Size in bytes of the original file the broadcaster sent the FCC, like\\n      \\'100000\\'.\",column-name: fileStatus, column-type:\"STRING\" ,column-description: \"None\",column-name: folderId, column-type:\"STRING\" ,column-description: \"None\",column-name: historyStatus, column-type:\"STRING\" ,column-description: \"\\n      Description of what happened to the file at this point in history. One of\\n      { \\'purge\\', \\'move\\', \\'delete\\', \\'new\\', \\'restore\\', \\'rename\\' }\",column-name: lastUpdatedTimestamp, column-type:\"TIMESTAMP\" ,column-description: \"\\n      The last time the broadcaster sent an updated version of the file to the\\n      FCC. lastUpdatedTimestap is overwhelmingly identical to the\\n      createdTimestamp column, and when they differ, it is only by seconds, so\\n      you can consider them to be duplicates.\",column-name: stationId, column-type:\"STRING\" ,column-description: \"\\n      Unique identifier specifying the TV or radio broadcasting station who\\n      ran the ads described in this receipt.\"', metadata={'dataset': 'fcc_political_ads', 'table': 'file_history', 'table_description': 'Broadcasters may upload revised versions of receipts that they have previously uploaded. A copy of the history of all versions of a given receipt that have been uploaded is kept and stored in Google Cloud Storage.The file_history table contains one entry per revision of a given file_record row. Each row in the  file_record table has at least one corresponding file_history row, linked by the\\nfileId field.\\n\\nRetrieved from:\\nhttps://publicfiles.fcc.gov/developer/!/file/!/file/get_file_history_format'}), 0.36186796939437993)\n",
      "(Document(page_content='Dataset name: \\'london_bicycles\\', Dataset description:\\'None\\', Table name:\"cycle stations\", Table description:\\' The \\'cycle stations\\' table in the \\'london_bicycles\\' dataset provides information about bicycle stations in London, UK. This table contains details such as station ID, installation status, location (latitude and longitude), station name, current bike and dock counts, number of empty docks, temporary status, terminal name, installation date, and removal date. This information is useful for understanding the distribution and availability of bicycle stations in London, enabling efficient planning and management of the city\\'s cycling infrastructure.\\'Schema attributes: column-name: id, column-type:\"INTEGER\" ,column-description: \"None\",column-name: installed, column-type:\"BOOLEAN\" ,column-description: \"None\",column-name: latitude, column-type:\"FLOAT\" ,column-description: \"None\",column-name: locked, column-type:\"STRING\" ,column-description: \"None\",column-name: longitude, column-type:\"FLOAT\" ,column-description: \"None\",column-name: name, column-type:\"STRING\" ,column-description: \"None\",column-name: bikes_count, column-type:\"INTEGER\" ,column-description: \"None\",column-name: docks_count, column-type:\"INTEGER\" ,column-description: \"None\",column-name: nbEmptyDocks, column-type:\"INTEGER\" ,column-description: \"None\",column-name: temporary, column-type:\"BOOLEAN\" ,column-description: \"None\",column-name: terminal_name, column-type:\"STRING\" ,column-description: \"None\",column-name: install_date, column-type:\"DATE\" ,column-description: \"None\",column-name: removal_date, column-type:\"DATE\" ,column-description: \"None\"', metadata={'dataset': 'london_bicycles', 'table': 'cycle_stations', 'table_description': \" The 'cycle stations' table in the 'london_bicycles' dataset provides information about bicycle stations in London, UK. This table contains details such as station ID, installation status, location (latitude and longitude), station name, current bike and dock counts, number of empty docks, temporary status, terminal name, installation date, and removal date. This information is useful for understanding the distribution and availability of bicycle stations in London, enabling efficient planning and management of the city's cycling infrastructure.\"}), 0.35480183950728605)\n"
     ]
    }
   ],
   "source": [
    "for i in output:\n",
    "    print(i)"
   ]
  },
  {
   "cell_type": "code",
   "execution_count": null,
   "metadata": {},
   "outputs": [
    {
     "name": "stderr",
     "output_type": "stream",
     "text": [
      "/Users/jskuratowicz/Projects/Hackathon_Semantic_Search_Example/.venv/lib/python3.9/site-packages/gradio/utils.py:840: UserWarning: Expected 3 arguments for function <function search_items at 0x13bf84700>, received 1.\n",
      "  warnings.warn(\n",
      "/Users/jskuratowicz/Projects/Hackathon_Semantic_Search_Example/.venv/lib/python3.9/site-packages/gradio/utils.py:844: UserWarning: Expected at least 3 arguments for function <function search_items at 0x13bf84700>, received 1.\n",
      "  warnings.warn(\n"
     ]
    },
    {
     "name": "stdout",
     "output_type": "stream",
     "text": [
      "Running on local URL:  http://127.0.0.1:7903\n",
      "\n",
      "To create a public link, set `share=True` in `launch()`.\n"
     ]
    },
    {
     "data": {
      "text/html": [
       "<div><iframe src=\"http://127.0.0.1:7903/\" width=\"100%\" height=\"500\" allow=\"autoplay; camera; microphone; clipboard-read; clipboard-write;\" frameborder=\"0\" allowfullscreen></iframe></div>"
      ],
      "text/plain": [
       "<IPython.core.display.HTML object>"
      ]
     },
     "metadata": {},
     "output_type": "display_data"
    },
    {
     "data": {
      "text/plain": []
     },
     "execution_count": 350,
     "metadata": {},
     "output_type": "execute_result"
    },
    {
     "name": "stderr",
     "output_type": "stream",
     "text": [
      "/Users/jskuratowicz/Projects/Hackathon_Semantic_Search_Example/.venv/lib/python3.9/site-packages/gradio/helpers.py:837: UserWarning: Unexpected argument. Filling with None.\n",
      "  warnings.warn(\"Unexpected argument. Filling with None.\")\n"
     ]
    }
   ],
   "source": [
    "import gradio as gr\n",
    "\n",
    "\n",
    "\n",
    "def search_items(query,table_fields)):\n",
    "    # Your search logic here\n",
    "    # Return the search results\n",
    "    \n",
    "    # For example, let's assume we have a list of items\n",
    "\n",
    "    # Filter the items based on the query\n",
    "    if query ==\"\":\n",
    "        query=\"banks are bad\"\n",
    "    results = db.similarity_search_with_relevance_scores(query=query, k=5, threshold=0.5, return_relevance_scores=True)\n",
    "    output=[]\n",
    "    for i in results:\n",
    "        output.append(i[0].metadata['dataset']+\".\"+i[0].metadata['table'])\n",
    "        output.append(i[0].metadata['table_description'])\n",
    "    update_show=[gr.Text(visible=True,value=x) for x in output]\n",
    "\n",
    "    return update_show\n",
    "\n",
    "result_tables_list = []\n",
    "\n",
    "\n",
    "with gr.Blocks() as demo:\n",
    "    search_phrase = gr.Textbox(label=\"Search phrase\",placeholder=\"Banks are good\")\n",
    "\n",
    "    with gr.Column():\n",
    "        for i in range(5):\n",
    "            with gr.Row():\n",
    "                table_field=gr.Text(show_label=False,visible=False)\n",
    "                description_field=gr.Textbox(show_label=False,visible=False)\n",
    "                result_tables_list.append(table_field)\n",
    "                result_tables_list.append(description_field)\n",
    "    search_phrase.change(search_items, search_phrase, result_tables_list)\n",
    "    greet_btn = gr.Button(\"Search\")\n",
    "\n",
    "    greet_btn.click()\n",
    "    greet_btn.click(search_items,search_phrase,result_tables_list)\n",
    "        \n",
    "\n",
    "demo.launch()"
   ]
  },
  {
   "cell_type": "code",
   "execution_count": null,
   "metadata": {},
   "outputs": [],
   "source": []
  },
  {
   "cell_type": "code",
   "execution_count": null,
   "metadata": {},
   "outputs": [],
   "source": []
  }
 ],
 "metadata": {
  "kernelspec": {
   "display_name": ".venv",
   "language": "python",
   "name": "python3"
  },
  "language_info": {
   "codemirror_mode": {
    "name": "ipython",
    "version": 3
   },
   "file_extension": ".py",
   "mimetype": "text/x-python",
   "name": "python",
   "nbconvert_exporter": "python",
   "pygments_lexer": "ipython3",
   "version": "3.9.6"
  }
 },
 "nbformat": 4,
 "nbformat_minor": 2
}
