{
 "cells": [
  {
   "cell_type": "code",
   "metadata": {},
   "source": [
    "!pip install google-cloud-bigquery\n",
    "from google.cloud import bigquery\n",
    "from google.colab import auth"
   ],
   "execution_count": null,
   "outputs": []
  },
  {
   "cell_type": "code",
   "metadata": {},
   "source": [
    "auth.authenticate_user()\n",
    "project_id = 'your_project_id'  # Replace with your actual project ID\n",
    "client = bigquery.Client(project=project_id)"
   ],
   "execution_count": null,
   "outputs": []
  },
  {
   "cell_type": "code",
   "metadata": {},
   "source": [
    "query_step_1 = \"\"\"\n",
    "SELECT a.original_title, b.review\n",
    "FROM `bigquery-public-data.imdb.reviews` b \n",
    "JOIN `bigquery-public-data.imdb.title_basics` a ON a.tconst = b.movie_id AND a.title_type = 'movie'\n",
    "LIMIT 100;\n",
    "\"\"\"\n",
    "df_step_1 = client.query(query_step_1).result().to_dataframe()\n",
    "df_step_1.head()"
   ],
   "execution_count": null,
   "outputs": []
  },
  {
   "cell_type": "code",
   "metadata": {},
   "source": [
    "query_step_2 = \"\"\"\n",
    "CREATE OR REPLACE TABLE `hackaton.reviews` AS\n",
    "SELECT a.original_title, b.review\n",
    "FROM `bigquery-public-data.imdb.reviews` b \n",
    "JOIN `bigquery-public-data.imdb.title_basics` a ON a.tconst = b.movie_id AND a.title_type = 'movie'\n",
    "LIMIT 10;\n",
    "\"\"\"\n",
    "client.query(query_step_2)"
   ],
   "execution_count": null,
   "outputs": []
  },
  {
   "cell_type": "markdown",
   "metadata": {},
   "source": [
    "Steps 3 : Create a BQ Connection\n",
    "\n",
    "These steps involve configurations in the BigQuery UI and cannot be executed via the Colab notebook. Include instructions or links to documentation for these steps."
   ]
  },
{
   "cell_type": "code",
   "metadata": {},
   "source": [
    "# Step 4: Create Model\n",
 
    "query_step_4 = \"\"\"\n",

    "CREATE OR REPLACE MODEL hackaton.llm_model REMOTE WITH CONNECTION `us.gcs-transactions`= OPTIONS (endpoint = 'text-bison');\n"

    "\"\"\"\n",
    "client.query(query_step_4)"
   ],
   "execution_count": null,
   "outputs": []
  },
  {
   "cell_type": "code",
   "metadata": {},
   "source": [
    "# Step 5: Translate Reviews to Italian\n",
    "# Note: This step requires the BigQuery ML model to be created.\n",
    "# If the model is ready, execute the query; otherwise, include instructions.\n",
    "query_step_5 = \"\"\"\n",
    "SELECT original_title AS Titolo, review AS Review, a.ml_generate_text_llm_result AS Traduzione\n",
    "FROM ML.GENERATE_TEXT(\n",
    "    MODEL `hackaton.llm_model`,\n",
    "    (\n",
    "        SELECT p.*, CONCAT('Traduci questo testo in italiano: ', review) AS prompt\n",
    "        FROM hackaton.reviews p\n",
    "    ),\n",
    "    STRUCT(\n",
    "        0.2 AS temperature, 0.2 AS top_p, 15 AS top_k, TRUE AS flatten_json_output\n",
    "    )\n",
    ") a;\n",
    "\"\"\"\n",
    "client.query(query_step_5)"
   ],
   "execution_count": null,
   "outputs": []
  },
  {
   "cell_type": "code",
   "metadata": {},
   "source": [
    "# Step 6: Sentiment Analysis on Reviews\n",
    "# Similar to Step 5, this step also depends on the BigQuery ML model.\n",
    "query_step_6 = \"\"\"\n",
    "SELECT original_title AS Titolo, review AS Review, a.ml_generate_text_llm_result AS Sentiment\n",
    "FROM ML.GENERATE_TEXT(\n",
    "    MODEL `hackaton.llm_model`,\n",
    "    (\n",
    "        SELECT p.*, CONCAT('Run a sentiment analysis on this text, and evaluate if it is either positive or negative; respond by simply saying \"positive\" or \"negative\". Here is the text: ', review) AS prompt\n",
    "        FROM hackaton.reviews p\n",
    "    ),\n",
    "    STRUCT(\n",
    "        0.2 AS temperature, 0.2 AS top_p, 15 AS top_k, TRUE AS flatten_json_output\n",
    "    )\n",
    ") a;\n",
    "\"\"\"\n",
     "client.query(query_step_6)"
   ],
   "execution_count": null,
   "outputs": []
  },
  {
   "cell_type": "markdown",
   "metadata": {},
   "source": [
    "Execution Notes:\n",
    "\n",
    "Add cells with markdown notes explaining any manual steps needed, such as creating connections or models in the BigQuery UI."
   ]
  }
 ],
 "metadata": {
  "kernelspec": {
   "name": "python3",
   "display_name": "Python 3"
  },
  "language_info": {
   "name": "python",
   "version": "3.7.10",
   "mimetype": "text/x-python",
   "codemirror_mode": {
    "name": "ipython",
    "version": 3
   },
   "pygments_lexer": "ipython3",
   "nbconvert_exporter": "python",
   "file_extension": ".py"
  }
 },
 "nbformat": 4,
 "nbformat_minor": 4
}
